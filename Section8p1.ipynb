{
 "cells": [
  {
   "cell_type": "markdown",
   "id": "2c05fc26",
   "metadata": {},
   "source": [
    "The solutions manual also has some solutions. Tomoki also has solutions. I have tried to solve as many from the rest as possible."
   ]
  },
  {
   "cell_type": "code",
   "execution_count": 60,
   "id": "45f95d69",
   "metadata": {},
   "outputs": [],
   "source": [
    "import numpy as np\n",
    "import pandas as pd\n",
    "\n",
    "import statsmodels.api as sm\n",
    "import statsmodels.stats.api as sms\n",
    "import pylab as py\n",
    "import scipy.linalg as la\n",
    "import statistics\n",
    "import scipy.stats as stats\n",
    "import scipy\n",
    "\n",
    "from math import gamma as tma\n",
    "import itertools\n",
    "from scipy.stats import laplace\n",
    "from scipy.stats import logistic\n",
    "from scipy.stats import cauchy\n",
    "from scipy.stats import binom\n",
    "from scipy.stats import weibull_min as weibull\n",
    "from scipy.stats import poisson\n",
    "from scipy.stats import gamma\n",
    "from scipy.stats import beta\n",
    "from scipy.stats import norm\n",
    "from scipy.stats import multivariate_normal as mnorm\n",
    "from scipy.stats import t as studt\n",
    "from scipy.stats import f as fdist\n",
    "from scipy.stats import chisquare as chisq\n",
    "from scipy.stats import chi2\n",
    "from scipy.stats import gaussian_kde as gkde\n",
    "from sklearn.neighbors import KernelDensity\n",
    "import math\n",
    "import sympy as sym\n",
    "import random\n",
    "import seaborn as sns\n",
    "\n",
    "import matplotlib.pyplot as plt\n",
    "import matplotlib.lines as mlines\n",
    "import matplotlib.patches as mpatches\n",
    "from matplotlib.cbook import boxplot_stats\n",
    "\n",
    "import warnings\n",
    "warnings.filterwarnings('ignore')"
   ]
  },
  {
   "cell_type": "markdown",
   "id": "b1957fe9",
   "metadata": {},
   "source": [
    "Tomoki has solutions to all but $8.1.7$ and solutions manual also carries some solutions."
   ]
  },
  {
   "cell_type": "markdown",
   "id": "267c51fd",
   "metadata": {},
   "source": [
    "A discussion and an alternative proof for Corollary $8.1.1$ is in the following SE post.\n",
    "\n",
    "https://stats.stackexchange.com/q/656832/183497"
   ]
  },
  {
   "cell_type": "code",
   "execution_count": 61,
   "id": "9370c83b",
   "metadata": {},
   "outputs": [],
   "source": [
    "def dx(a,t):\n",
    "    return (norm.cdf(a, loc=0, scale=1)-t)\n",
    "def invert_norm(t):\n",
    "    a = 10.0\n",
    "    b = -10.0\n",
    "    c = (a+b)/2\n",
    "    tol = 0.00001\n",
    "\n",
    "    while(abs(dx(c,t)) > tol):\n",
    "        c = (a+b)/2\n",
    "        if(dx(c,t) > 0):\n",
    "            a = c\n",
    "        else:\n",
    "            b = c\n",
    "    return c"
   ]
  },
  {
   "cell_type": "code",
   "execution_count": 62,
   "id": "4c0b3cff",
   "metadata": {},
   "outputs": [
    {
     "name": "stdout",
     "output_type": "stream",
     "text": [
      "-0.3289794921875\n",
      "0.9996033221426324\n"
     ]
    }
   ],
   "source": [
    "# Exercise 8.1.1\n",
    "c = invert_norm(0.05)/5\n",
    "print(c)\n",
    "pwr = norm.cdf(c,-1,1/5)\n",
    "print(pwr)"
   ]
  },
  {
   "cell_type": "code",
   "execution_count": 63,
   "id": "40539201",
   "metadata": {},
   "outputs": [],
   "source": [
    "def dxc2(a,t,dof):\n",
    "    return (chi2.cdf(a, dof)-t)\n",
    "def invert_chi2(t,dof):\n",
    "    a = 0\n",
    "    b = 100.0\n",
    "    c = (a+b)/2\n",
    "    tol = 0.00001\n",
    "\n",
    "    while(abs(dxc2(c,t,dof)) > tol):\n",
    "        c = (a+b)/2\n",
    "        if(dxc2(c,t,dof) < 0):\n",
    "            a = c\n",
    "        else:\n",
    "            b = c\n",
    "    return c"
   ]
  },
  {
   "cell_type": "code",
   "execution_count": 64,
   "id": "676f5648",
   "metadata": {},
   "outputs": [
    {
     "name": "stdout",
     "output_type": "stream",
     "text": [
      "18.3074951171875 0.5175772822527105\n"
     ]
    }
   ],
   "source": [
    "# Exercise 8.1.4\n",
    "c = invert_chi2(0.95,10)\n",
    "pwr = 1-chi2.cdf(c/2,10)\n",
    "print(c,pwr)"
   ]
  },
  {
   "cell_type": "markdown",
   "id": "0faecd27",
   "metadata": {},
   "source": [
    "#### Exercise 8.1.7. \n",
    "\n",
    "Let $X_1, X_2, \\cdots, X_n$ denote a random sample from a normal distribution $N(\\theta,100)$. Show that $C = \\{(x_1,x_2,\\cdots,x_n) : c \\leq \\overline{x} = \\sum_1^n x_i/n\\}$ is a best critical region for testing $H_0 :\\theta=75$ against $H_1 :\\theta=78$. Find $n$ and $c$ so that\n",
    "\n",
    "$$\n",
    "P_{H_0} [(X_1, X_2,\\cdots , X_n) \\in C] = P_{H_0} (\\overline{X} \\geq c) = 0.05 \\tag{1}\n",
    "$$\n",
    "\n",
    "and\n",
    "\n",
    "$$\n",
    "P_{H_1} [(X_1, X_2,\\cdots , X_n) \\in C] = P_{H_1} (\\overline{X} \\geq c) = 0.9 \\tag{2}\n",
    "$$\n",
    "\n",
    "approximately.\n",
    "\n"
   ]
  },
  {
   "cell_type": "markdown",
   "id": "f1a00349",
   "metadata": {},
   "source": [
    "#### Solution:\n",
    "\n",
    "For the best critical region, we find the likelihood ratio as being\n",
    "\n",
    "$$\n",
    "\\begin{align}\n",
    "\\frac{L(\\theta';x)}{L(\\theta'';x)} &= \\exp{\\left[ \\frac{1}{200} \\{ n(\\theta'' - \\theta'') -2 n \\overline{x} (\\theta'' - \\theta'')\\} \\right]} \\leq k \\\\\n",
    "\\implies \\overline{x} & \\geq \\frac{n(\\theta'' - \\theta'') - k}{2n(\\theta'' - \\theta'')} = c\n",
    "\\end{align}\n",
    "$$\n",
    "\n",
    "where $\\theta'' = 78$ and $\\theta'' = 75$. Now $\\overline{X} \\sim N(\\theta'/n,100/n)$ under $H_0$. So from condition of equation $(1)$ above, we have \n",
    "\n",
    "$$\n",
    "c = \\theta'+\\frac{10}{\\sqrt{n}}\\Phi^{-1}(0.95)\n",
    "$$\n",
    "\n",
    "where $\\Phi()$ is the cdf of standard normal distribution. From equation $(2)$, we get\n",
    "\n",
    "$$\n",
    "c = \\theta''+\\frac{10}{\\sqrt{n}}\\Phi^{-1}(0.1)\n",
    "$$\n",
    "\n",
    "From these, we can solve for $n$ and $c$ as shown below."
   ]
  },
  {
   "cell_type": "code",
   "execution_count": 65,
   "id": "ba5590e9",
   "metadata": {},
   "outputs": [],
   "source": [
    "m1 = invert_norm(0.95)\n",
    "m2 = invert_norm(0.1)"
   ]
  },
  {
   "cell_type": "code",
   "execution_count": 66,
   "id": "67aef0b5",
   "metadata": {},
   "outputs": [],
   "source": [
    "n = np.ceil(100*((m1-m2)/(3))**2)"
   ]
  },
  {
   "cell_type": "code",
   "execution_count": 67,
   "id": "949ff13e",
   "metadata": {},
   "outputs": [],
   "source": [
    "c = 75 + 10/np.sqrt(n)*m1"
   ]
  },
  {
   "cell_type": "code",
   "execution_count": 68,
   "id": "b48c8835",
   "metadata": {},
   "outputs": [
    {
     "name": "stdout",
     "output_type": "stream",
     "text": [
      "96.0 76.67881644104021\n"
     ]
    }
   ],
   "source": [
    "print(n,c)"
   ]
  },
  {
   "cell_type": "markdown",
   "id": "b3d9854a",
   "metadata": {},
   "source": [
    "A point to be noted is that if $n$ turns out to be a fraction, it appears that we should round it to the next higher integer (based on the answer at the back of the book even though they do not mention about rounding issue). I think this is because if we need to satisfy the conditions in equations $(1)$ and $(2)$, we'd need to take the higher value of $n$.\n",
    "\n",
    "As seen below, when we round it to a lower integer value namely $n=95$, significance level is higher than $0.05$ even though power seems to be higher than $0.9$. However, with $n=96$, both the significance level and the power seem to satisfy our requirement.\n",
    "\n",
    "So when it comes to rounding the sample size to a whole number, we should always round it to the next higher value."
   ]
  },
  {
   "cell_type": "code",
   "execution_count": 69,
   "id": "99afa8e7",
   "metadata": {},
   "outputs": [],
   "source": [
    "nlist = [i for i in range(90,101,1)]\n",
    "\n",
    "siglist = []\n",
    "powlist = []\n",
    "\n",
    "for i in nlist:\n",
    "    thissig = 1-norm.cdf(c, loc=75, scale=10/np.sqrt(i))\n",
    "    thispow = 1-norm.cdf(c, loc=78, scale=10/np.sqrt(i))\n",
    "    siglist.append(thissig)\n",
    "    powlist.append(thispow)"
   ]
  },
  {
   "cell_type": "code",
   "execution_count": 70,
   "id": "62b3832a",
   "metadata": {},
   "outputs": [
    {
     "data": {
      "image/png": "[encoded data removed]",
      "text/plain": [
       "<Figure size 864x504 with 1 Axes>"
      ]
     },
     "metadata": {
      "needs_background": "light"
     },
     "output_type": "display_data"
    }
   ],
   "source": [
    "plt.figure(figsize = (12,7))\n",
    "\n",
    "plt.plot(nlist,siglist,linewidth=2,color='g')\n",
    "plt.ylabel('Significance Level',fontsize=14)\n",
    "plt.xlabel('n',fontsize=14)\n",
    "plt.xticks(nlist)\n",
    "plt.grid()\n",
    "plt.show()"
   ]
  },
  {
   "cell_type": "code",
   "execution_count": 71,
   "id": "4d2f9bd2",
   "metadata": {},
   "outputs": [
    {
     "data": {
      "image/png": "[encoded data removed]",
      "text/plain": [
       "<Figure size 864x504 with 1 Axes>"
      ]
     },
     "metadata": {
      "needs_background": "light"
     },
     "output_type": "display_data"
    }
   ],
   "source": [
    "plt.figure(figsize = (12,7))\n",
    "\n",
    "plt.plot(nlist,powlist,linewidth=2,color='r')\n",
    "plt.ylabel('Power',fontsize=14)\n",
    "plt.xlabel('n',fontsize=14)\n",
    "plt.xticks(nlist)\n",
    "plt.grid()\n",
    "plt.show()"
   ]
  },
  {
   "cell_type": "code",
   "execution_count": null,
   "id": "6b30d055",
   "metadata": {},
   "outputs": [],
   "source": []
  }
 ],
 "metadata": {
  "kernelspec": {
   "display_name": "Python 3 (ipykernel)",
   "language": "python",
   "name": "python3"
  },
  "language_info": {
   "codemirror_mode": {
    "name": "ipython",
    "version": 3
   },
   "file_extension": ".py",
   "mimetype": "text/x-python",
   "name": "python",
   "nbconvert_exporter": "python",
   "pygments_lexer": "ipython3",
   "version": "3.8.8"
  }
 },
 "nbformat": 4,
 "nbformat_minor": 5
}
