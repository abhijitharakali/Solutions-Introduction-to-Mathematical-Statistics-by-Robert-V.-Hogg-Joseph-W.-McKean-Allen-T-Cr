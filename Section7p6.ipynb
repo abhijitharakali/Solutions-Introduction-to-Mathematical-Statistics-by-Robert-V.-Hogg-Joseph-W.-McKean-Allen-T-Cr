{
 "cells": [
  {
   "cell_type": "markdown",
   "id": "2c05fc26",
   "metadata": {},
   "source": [
    "Tomoki Okuno has solutions to some questions, and solutions manual also has some solutions. I have tried to solve as many from the rest (i.e. from the ones whose solutions are not in these soluton manuals) as possible."
   ]
  },
  {
   "cell_type": "code",
   "execution_count": 1,
   "id": "45f95d69",
   "metadata": {},
   "outputs": [],
   "source": [
    "import numpy as np\n",
    "import pandas as pd\n",
    "\n",
    "import statsmodels.api as sm\n",
    "import statsmodels.stats.api as sms\n",
    "import pylab as py\n",
    "import scipy.linalg as la\n",
    "import statistics\n",
    "import scipy.stats as stats\n",
    "import scipy\n",
    "\n",
    "from math import gamma as tma\n",
    "import itertools\n",
    "from scipy.stats import laplace\n",
    "from scipy.stats import logistic\n",
    "from scipy.stats import cauchy\n",
    "from scipy.stats import binom\n",
    "from scipy.stats import weibull_min as weibull\n",
    "from scipy.stats import poisson\n",
    "from scipy.stats import gamma\n",
    "from scipy.stats import beta\n",
    "from scipy.stats import norm\n",
    "from scipy.stats import multivariate_normal as mnorm\n",
    "from scipy.stats import t as studt\n",
    "from scipy.stats import f as fdist\n",
    "from scipy.stats import chisquare as chisq\n",
    "from scipy.stats import chi2\n",
    "from scipy.stats import gaussian_kde as gkde\n",
    "from sklearn.neighbors import KernelDensity\n",
    "import math\n",
    "import sympy as sym\n",
    "import random\n",
    "import seaborn as sns\n",
    "\n",
    "import matplotlib.pyplot as plt\n",
    "import matplotlib.lines as mlines\n",
    "import matplotlib.patches as mpatches\n",
    "from matplotlib.cbook import boxplot_stats\n",
    "\n",
    "import warnings\n",
    "warnings.filterwarnings('ignore')"
   ]
  },
  {
   "cell_type": "markdown",
   "id": "3ae31e4f",
   "metadata": {},
   "source": [
    "#### Exercise 7.6.2. \n",
    "\n",
    "Let $X_1, X_2,\\cdots, X_n$ denote a random sample from a distribution that is $N(0,\\theta)$. Then Y = $\\sum X_i^2$ is a complete sufficient statistic for $\\theta$. Find the MVUE of $\\theta^2$.\n"
   ]
  },
  {
   "cell_type": "markdown",
   "id": "5277494c",
   "metadata": {},
   "source": [
    "#### Solution:\n",
    "\n",
    "Tomoki and the solution manual writer take the approach where they use the fact that $Y/\\theta \\sim \\chi^2(n).$ There is another approach.\n",
    "\n",
    "Since $Y$ is a complete sufficient statistic of $\\theta$, it is a sufficient statistic for $\\theta^2$ as well (see https://stats.stackexchange.com/q/654163/183497). Similar result holds for completeness. So if there is a function of our complete sufficient statistic $Y$ that is unbiased for $\\theta^2$, then we have our MVUE.\n",
    "\n",
    "We know that MLE for $\\theta$ (with a known mean of zero) is $Y/n = 1/n \\sum X_i^2$ (this has been proved in the text somewhere but you can also see that on SE like in https://math.stackexchange.com/a/2187053/145325). So MLE of $\\theta^2$ is $Y^2/n^2$. But we need MVUE so perhaps it is of the same for but for a correction for bias. So we need $E(Y^2/n^2)$. Since $Y^2 = \\left ( \\sum X_i^2 \\right )^2$, \n",
    "\n",
    "\\begin{align} E(Y^2) &= \\sum E(X_i^4) + \\sum_{i \\neq j} E(X_i^2)E(X_j^2) \\\\\n",
    "&= nE(X_1^4)+n(n-1)\\left ( E(X_1^2) \\right )^2 \\\\\n",
    "&= 3n\\theta^2 + n(n-1)\\theta^2 \\\\\n",
    "&= n(n+2)\\theta^2\n",
    "\\end{align}\n",
    "\n",
    "Hence we have $$E\\left[ \\frac{Y^2}{n(n+2)} \\right] = \\theta^2$$ and as $Y$ is a complete sufficient statistic for $\\theta^2$ as well, we have that MVUE of $\\theta^2 = Y^2/[n(n+2)]$."
   ]
  },
  {
   "cell_type": "code",
   "execution_count": 2,
   "id": "fdb60b85",
   "metadata": {},
   "outputs": [],
   "source": [
    "# As usual, the R code was converted to Python using the online code converter in\n",
    "# https://www.codeconvert.ai/r-to-python-converter"
   ]
  },
  {
   "cell_type": "code",
   "execution_count": 3,
   "id": "f7c65f0e",
   "metadata": {},
   "outputs": [],
   "source": [
    "def bootse1(x, nb=3000):\n",
    "    n = len(x)\n",
    "    coll = []\n",
    "    for i in range(nb):\n",
    "        xstar = np.random.choice(x, n, replace=True)\n",
    "        coll.append(np.mean(xstar))\n",
    "    se1 = np.std(coll,ddof=1)\n",
    "    return coll,se1"
   ]
  },
  {
   "cell_type": "code",
   "execution_count": 4,
   "id": "29227b83",
   "metadata": {},
   "outputs": [],
   "source": [
    "def bootse2(x, nb=3000):\n",
    "    n = len(x)\n",
    "    xb = np.mean(x)\n",
    "    s = np.std(x,ddof=1)\n",
    "    coll = []\n",
    "    for i in range(nb):\n",
    "        xstar = np.random.normal(loc=xb,scale=s,size=n)\n",
    "        coll.append(np.mean(xstar))\n",
    "    se2 = np.std(coll,ddof=1)\n",
    "    return coll,se2"
   ]
  },
  {
   "cell_type": "code",
   "execution_count": 5,
   "id": "3aa553cd",
   "metadata": {},
   "outputs": [
    {
     "name": "stdout",
     "output_type": "stream",
     "text": [
      "2.9984932512927625\n",
      "3.054082092831336\n"
     ]
    }
   ],
   "source": [
    "xexmp7p6p4 = [27.5,50.9,71.1,43.1,40.4,44.8,36.6,53.5,65.2,47.7]\n",
    "xexmp7p6p4.extend([75.7,55.4,61.1,39.8,33.4,57.6,47.9,60.7,27.8,65.2])\n",
    "\n",
    "coll1,se1 = bootse1(xexmp7p6p4)\n",
    "coll2,se2 = bootse2(xexmp7p6p4)\n",
    "print(se1)\n",
    "print(se2)"
   ]
  },
  {
   "cell_type": "markdown",
   "id": "d1feecd9",
   "metadata": {},
   "source": [
    "#### Exercise 7.6.3. \n",
    "\n",
    "Consider Example $7.6.3$ where the parameter of interest is $P (X < c)$ for $X$ distributed $N (\\theta, 1)$. Modify the R function bootse1.R so that for a specified value of $c$ it returns the MVUE of $P(X < c)$ and the bootstrap standard error of the estimate. Run your function on the data in ex763data.rda with $c = 11$ and $3000$ bootstraps. These data are generated from a $N(10,1)$ distribution. Report (a) the true parameter, (b) the MVUE, and (c) the bootstrap standard error.\n",
    "\n",
    "#### Answer (from the back of the book)\n",
    "(a) $0.8413$; \n",
    "\n",
    "(b) $0.7702$\n",
    "\n",
    "(c) Our run $0.0584$.\n"
   ]
  },
  {
   "cell_type": "markdown",
   "id": "9ed0446a",
   "metadata": {},
   "source": [
    "#### Solution:"
   ]
  },
  {
   "cell_type": "code",
   "execution_count": 6,
   "id": "5aab045a",
   "metadata": {},
   "outputs": [],
   "source": [
    "def bootcdfse1(x,c,nb=3000):\n",
    "    n = len(x)\n",
    "    coll = []\n",
    "    variable = (c-np.mean(x))*np.sqrt(n/(n-1))\n",
    "    est = norm.cdf(variable,loc=0,scale=1)\n",
    "    for i in range(nb):\n",
    "        xstar = np.random.choice(x, n, replace=True)\n",
    "        thisxb = np.mean(xstar)\n",
    "        thisn = len(xstar)\n",
    "        thisvariable = (c-thisxb)*np.sqrt(thisn/(thisn-1))\n",
    "        thiscdf = norm.cdf(thisvariable,loc=0,scale=1)\n",
    "        coll.append(thiscdf)\n",
    "    cdfse1 = np.std(coll,ddof=1)\n",
    "    return [est,cdfse1]"
   ]
  },
  {
   "cell_type": "code",
   "execution_count": 7,
   "id": "99f5e1fa",
   "metadata": {},
   "outputs": [],
   "source": [
    "def bootcdfse2(x,c,nb=3000):\n",
    "    n = len(x)\n",
    "    xb = np.mean(x)\n",
    "    s = np.std(x,ddof=1)\n",
    "    coll = []\n",
    "    variable = (c-np.mean(x))*np.sqrt(n/(n-1))\n",
    "    est = norm.cdf(variable,loc=0,scale=1)\n",
    "    for i in range(nb):\n",
    "        xstar = np.random.normal(loc=xb,scale=s,size=n)\n",
    "        thisxb = np.mean(xstar)\n",
    "        thisn = len(xstar)\n",
    "        thisvariable = (c-thisxb)*np.sqrt(thisn/(thisn-1))\n",
    "        thiscdf = norm.cdf(thisvariable,loc=0,scale=1)\n",
    "        coll.append(thiscdf)\n",
    "    cdfse2 = np.std(coll,ddof=1)\n",
    "    return [est,cdfse2]"
   ]
  },
  {
   "cell_type": "code",
   "execution_count": 8,
   "id": "6f17955e",
   "metadata": {},
   "outputs": [
    {
     "data": {
      "text/plain": [
       "0.8413447460685429"
      ]
     },
     "execution_count": 8,
     "metadata": {},
     "output_type": "execute_result"
    }
   ],
   "source": [
    "# (a) We have the result using the fact that this data is a realization of N(10,1)\n",
    "\n",
    "c = 11\n",
    "norm.cdf(c,loc=10,scale=1)"
   ]
  },
  {
   "cell_type": "code",
   "execution_count": 9,
   "id": "9257181d",
   "metadata": {},
   "outputs": [
    {
     "data": {
      "text/plain": [
       "0.7701595009361227"
      ]
     },
     "execution_count": 9,
     "metadata": {},
     "output_type": "execute_result"
    }
   ],
   "source": [
    "# (b) We can get the MVUE from the result in example 7.6.3\n",
    "\n",
    "data = pd.read_csv('data/ex763data.csv')\n",
    "xexrc7p6p3 = np.array(data['x'].to_list())\n",
    "\n",
    "thisxb = np.mean(xexrc7p6p3)\n",
    "thisn = len(xexrc7p6p3)\n",
    "thisvariable = (c-thisxb)*np.sqrt(thisn/(thisn-1))\n",
    "norm.cdf(thisvariable,loc=0,scale=1)"
   ]
  },
  {
   "cell_type": "code",
   "execution_count": 10,
   "id": "9d8ae62a",
   "metadata": {},
   "outputs": [
    {
     "name": "stdout",
     "output_type": "stream",
     "text": [
      "0.05782486515325088 0.7701595009361227\n",
      "0.06024018884285876 0.7701595009361227\n"
     ]
    }
   ],
   "source": [
    "# (c) We bootstrap re-sample and find the empirical cdf, and report the std using the function bootcdfse1\n",
    "\n",
    "[est1,cdfse1] = bootcdfse1(xexrc7p6p3,c)\n",
    "print(cdfse1,est1)\n",
    "\n",
    "[est2,cdfse2] = bootcdfse2(xexrc7p6p3,c)\n",
    "print(cdfse2,est2)"
   ]
  },
  {
   "cell_type": "markdown",
   "id": "6b93516e",
   "metadata": {},
   "source": [
    "#### Exercise 7.6.4. \n",
    "\n",
    "For Example $7.6.4$, modify the R function bootse1.R so that the estimate is the median not the mean. Using $3000$ bootstraps, run your function on the data set discussed in the example and report (a) the estimate and (b) the bootstrap standard error."
   ]
  },
  {
   "cell_type": "markdown",
   "id": "7b30a01f",
   "metadata": {},
   "source": [
    "#### Solution:\n",
    "\n",
    "Answer from the back of the book is \n",
    "\n",
    "(a) $49.4$; \n",
    "\n",
    "(b) Our run: $4.405.$"
   ]
  },
  {
   "cell_type": "code",
   "execution_count": 11,
   "id": "d7ce6412",
   "metadata": {},
   "outputs": [],
   "source": [
    "def bootse1_median(x, nb=3000):\n",
    "    n = len(x)\n",
    "    coll = []\n",
    "    est = np.median(x)\n",
    "    for i in range(nb):\n",
    "        xstar = np.random.choice(x, n, replace=True)\n",
    "        coll.append(np.median(xstar))\n",
    "    semd = np.std(coll,ddof=1)\n",
    "    return [est,semd]"
   ]
  },
  {
   "cell_type": "code",
   "execution_count": 12,
   "id": "9ba009b3",
   "metadata": {},
   "outputs": [
    {
     "data": {
      "text/plain": [
       "49.4"
      ]
     },
     "execution_count": 12,
     "metadata": {},
     "output_type": "execute_result"
    }
   ],
   "source": [
    "# (a)\n",
    "\n",
    "np.median(xexmp7p6p4)"
   ]
  },
  {
   "cell_type": "code",
   "execution_count": 13,
   "id": "79dd9692",
   "metadata": {},
   "outputs": [
    {
     "name": "stdout",
     "output_type": "stream",
     "text": [
      "49.4 4.516307898279994\n"
     ]
    }
   ],
   "source": [
    "# (b)\n",
    "\n",
    "[est,semd] = bootse1_median(xexmp7p6p4)\n",
    "print(est,semd)"
   ]
  },
  {
   "cell_type": "markdown",
   "id": "acc8f178",
   "metadata": {},
   "source": [
    "#### Exercise 7.6.5. \n",
    "\n",
    "Let $X_1, X_2, \\cdots , X_n$ be a random sample from a uniform $(0, \\theta)$ distribution. Continuing with Example $7.6.2$, find the MVUEs for the following functions of $\\theta$.\n",
    "\n",
    "(a) $g(\\theta) = \\theta^2/12$ , i.e., the variance of the distribution.\n",
    "\n",
    "(b) $g(\\theta) = 1/\\theta$ , i.e., the pdf of the distribution.\n",
    "\n",
    "(c) For $t$ real, $g(\\theta) = \\frac{e^{t\\theta}−1}{t\\theta}$, i.e., the mgf of the distribution.\n",
    "\n",
    "#### Solution:\n",
    "\n",
    "All of these are straightforward applications of equation $(7.6.2)$ namely\n",
    "\n",
    "$$u(Y_n) = g(Y_n)+\\frac{Y_n}{n}g'(Y_n).$$\n",
    "\n",
    "(a) MVUE of $g(\\theta) = \\theta^2/12$ is $$u(Y_n) = \\frac{n+2}{n}\\frac{Y_n^2}{12}.$$\n",
    "\n",
    "(b) MVUE of $g(\\theta) = 1/\\theta$ is $$u(Y_n) = \\frac{n-1}{nY_n}.$$\n",
    "\n",
    "(c) MVUE of $g(\\theta) = \\frac{e^{t\\theta}−1}{t\\theta}$ is $$u(Y_n) = \\frac{e^{tY_n}−1}{tY_n^2}[(1+t)Y_n-1].$$"
   ]
  },
  {
   "cell_type": "markdown",
   "id": "556a97fc",
   "metadata": {},
   "source": [
    "#### Exercise 7.6.8. \n",
    "\n",
    "As in Example $7.6.3$, let $X_1,X_2,\\cdots,X_n$ be a random sample of size $n > 1$ from a distribution that is $N(\\theta,1)$. Show that the joint distribution of $X_1$ and $\\overline{X}$ is bivariate normal with mean vector $(\\theta,\\theta)$, variances $\\sigma^2 = 1$ and $\\sigma^2 = 1/n$, and correlation coefficient $\\rho = 1/\\sqrt{n}.$"
   ]
  },
  {
   "cell_type": "markdown",
   "id": "7818dafe",
   "metadata": {},
   "source": [
    "#### Solution:\n",
    "\n",
    "This is a direct application of Theorem $3.5.2$. Here, \n",
    "\n",
    "\\begin{equation}\n",
    "\\textbf{A} = \n",
    "\\begin{bmatrix}\n",
    "1 & 0 & 0 & \\cdots & 0 \\\\\n",
    "\\frac{1}{n} & \\frac{1}{n} & \\frac{1}{n} & \\cdots & \\frac{1}{n}\n",
    "\\end{bmatrix}, ~~\n",
    "\\textbf{X} = \n",
    "\\begin{bmatrix}\n",
    "X_1 \\\\\n",
    "X_2 \\\\\n",
    ". \\\\\n",
    ". \\\\\n",
    ". \\\\\n",
    "X_n\n",
    "\\end{bmatrix},~~\n",
    "\\textbf{b} = \n",
    "\\begin{bmatrix}\n",
    "0 \\\\\n",
    "0\n",
    "\\end{bmatrix},~~\n",
    "\\textbf{Y} = \n",
    "\\begin{bmatrix}\n",
    "X_1 \\\\\n",
    "\\overline{X}\n",
    "\\end{bmatrix},~~\n",
    "\\pmb{\\mu} = \n",
    "\\begin{bmatrix}\n",
    "\\theta \\\\\n",
    "\\theta\n",
    "\\end{bmatrix},~~\n",
    "\\pmb{\\Sigma} = \n",
    "\\begin{bmatrix}\n",
    "1 & 0 \\\\\n",
    "0 & 1\n",
    "\\end{bmatrix}.\n",
    "\\end{equation}"
   ]
  },
  {
   "cell_type": "markdown",
   "id": "38ff5b81",
   "metadata": {},
   "source": [
    "We know from that theorem that $\\textbf{AX}+\\textbf{b} \\sim N_2(\\textbf{A}\\pmb{\\mu}+\\textbf{b},\\textbf{A}\\pmb{\\Sigma}\\textbf{A}′)$ as $m=2$ (with reference to the matrix sizes in Theorem $3.5.2$). Carrying out those calculations using matrices above, we get the mean vector and covariance matrix of $\\textbf{Y}$ as \n",
    "\n",
    "\\begin{equation}\n",
    "\\textbf{A}\\pmb{\\mu}+\\textbf{b} = \n",
    "\\begin{bmatrix}\n",
    "\\theta \\\\\n",
    "\\theta\n",
    "\\end{bmatrix},~~ \\textbf{A}\\pmb{\\Sigma}\\textbf{A}′ = \n",
    "\\begin{bmatrix}\n",
    "1 & 1/n \\\\\n",
    "1/n & 1/n\n",
    "\\end{bmatrix}.\n",
    "\\end{equation}\n",
    "\n",
    "Hence, means of $X_1$ and $\\overline{X}$ are $\\theta$ and $\\theta$, and variances are $\\sigma^2 = 1$ and $\\sigma^2 = 1/n$ respectively, with correlation coefficient $\\rho = 1/\\sqrt{n}.$"
   ]
  },
  {
   "cell_type": "markdown",
   "id": "c87dfb96",
   "metadata": {},
   "source": [
    "#### Exercise $7.6.9.$ \n",
    "Let a random sample of size $n$ be taken from a distribution that has the pdf $f (x; \\theta) = (1/\\theta) e^{−x/\\theta}I_{(\\theta,\\infty)} (x).$ Find the mle and MVUE of $P (X \\leq 2).$"
   ]
  },
  {
   "cell_type": "markdown",
   "id": "e5457d6a",
   "metadata": {},
   "source": [
    "#### Solution:\n",
    "\n",
    "The solution manual has the solution for this problem under exercise number $7.6.8.$ Somehow, I felt like I should derive the joint p.d.f as the one given in the manual is not clear (even though the final answer is correct).\n",
    "\n",
    "Let $Z = X_1$, and let $V = \\sum_2^n X_i$. Then $Z$ and $V$ are independent. Let $H_1 = Z$ and $H_2 = Z+V$. Then we need joint pdf of $H_1$ (which is $X_1$) and $H_2$ which is same as $Y = Z+V$.\n",
    "\n",
    "Now we are looking for transformation of $H_1 = Z$ and $H_2 = Z+V$. We know the pdf of $Z$ (i.e the pdf of $X_1$, which is $\\Gamma(1,\\theta)$) and $V$ (i.e that of $\\sum_2^nX_i$, which is $\\Gamma(n-1,\\theta)$ since it is a sum of $n-1$ i.i.d. $\\Gamma(1,\\theta)$ random variables). Inversion of this transformation is $Z = H_1$ and $V = H_2-H_1$ which has a Jacobian of $1$. So the joint pdf of $H_1$ and $H_2$ is (refer to Section $2.7$, page $144$ of the text)\n",
    "\n",
    "$$g_{H_1,H_2}(h_1,h_2) = f_{Z,V}(h_1,h_2-h_1)|J| = f_Z(h_1)f_{V}(h_2-h_1) =\\frac{(h_2-h_1)^{n-2}}{\\theta^n(n-2)!}e^{-h_2/\\theta}$$ and setting $x_1 = h_1$, and $y = h_2$, this expression matches that in the solutions manual.\n",
    "\n",
    "One error in the manual is that the expectation integral is w.r.t variable $z$ so there had to be $dz$ but it says $dy$."
   ]
  },
  {
   "cell_type": "code",
   "execution_count": null,
   "id": "7e6471a1",
   "metadata": {},
   "outputs": [],
   "source": []
  }
 ],
 "metadata": {
  "kernelspec": {
   "display_name": "Python 3 (ipykernel)",
   "language": "python",
   "name": "python3"
  },
  "language_info": {
   "codemirror_mode": {
    "name": "ipython",
    "version": 3
   },
   "file_extension": ".py",
   "mimetype": "text/x-python",
   "name": "python",
   "nbconvert_exporter": "python",
   "pygments_lexer": "ipython3",
   "version": "3.8.8"
  }
 },
 "nbformat": 4,
 "nbformat_minor": 5
}
