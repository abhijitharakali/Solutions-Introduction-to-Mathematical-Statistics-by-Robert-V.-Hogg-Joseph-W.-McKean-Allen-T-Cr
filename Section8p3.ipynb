{
 "cells": [
  {
   "cell_type": "markdown",
   "id": "2c05fc26",
   "metadata": {},
   "source": [
    "The solutions manual has some solutions. Tomoki also has solutions. I have tried to solve as many from the rest as possible."
   ]
  },
  {
   "cell_type": "code",
   "execution_count": 26,
   "id": "45f95d69",
   "metadata": {},
   "outputs": [],
   "source": [
    "import numpy as np\n",
    "import pandas as pd\n",
    "\n",
    "import statsmodels.api as sm\n",
    "import statsmodels.stats.api as sms\n",
    "import pylab as py\n",
    "import scipy.linalg as la\n",
    "import statistics\n",
    "import scipy.stats as stats\n",
    "import scipy\n",
    "\n",
    "from math import gamma as tma\n",
    "import itertools\n",
    "from scipy.stats import laplace\n",
    "from scipy.stats import logistic\n",
    "from scipy.stats import cauchy\n",
    "from scipy.stats import binom\n",
    "from scipy.stats import weibull_min as weibull\n",
    "from scipy.stats import poisson\n",
    "from scipy.stats import gamma\n",
    "from scipy.stats import beta\n",
    "from scipy.stats import norm\n",
    "from scipy.stats import multivariate_normal as mnorm\n",
    "from scipy.stats import t as studt\n",
    "from scipy.stats import nct as nct\n",
    "from scipy.stats import f as fdist\n",
    "from scipy.stats import ncf as ncfdist\n",
    "from scipy.stats import chisquare as chisq\n",
    "from scipy.stats import chi2\n",
    "from scipy.stats import gaussian_kde as gkde\n",
    "from sklearn.neighbors import KernelDensity\n",
    "import math\n",
    "import sympy as sym\n",
    "import random\n",
    "import seaborn as sns\n",
    "\n",
    "import matplotlib.pyplot as plt\n",
    "import matplotlib.lines as mlines\n",
    "import matplotlib.patches as mpatches\n",
    "from matplotlib.cbook import boxplot_stats\n",
    "\n",
    "import warnings\n",
    "warnings.filterwarnings('ignore')"
   ]
  },
  {
   "cell_type": "code",
   "execution_count": 27,
   "id": "217a8cfe",
   "metadata": {},
   "outputs": [],
   "source": [
    "def dx(a,t):\n",
    "    return (norm.cdf(a, loc=0, scale=1)-t)\n",
    "def invert_norm(t):\n",
    "    a = 10.0\n",
    "    b = -10.0\n",
    "    c = (a+b)/2\n",
    "    tol = 0.00001\n",
    "\n",
    "    while(abs(dx(c,t)) > tol):\n",
    "        c = (a+b)/2\n",
    "        if(dx(c,t) > 0):\n",
    "            a = c\n",
    "        else:\n",
    "            b = c\n",
    "    return c"
   ]
  },
  {
   "cell_type": "code",
   "execution_count": 28,
   "id": "27b21bf8",
   "metadata": {},
   "outputs": [],
   "source": [
    "def dxc2(a,t,dof):\n",
    "    return (chi2.cdf(a, dof)-t)\n",
    "def invert_chi2(t,dof):\n",
    "    a = 0\n",
    "    b = 100.0\n",
    "    c = (a+b)/2\n",
    "    tol = 0.00001\n",
    "\n",
    "    while(abs(dxc2(c,t,dof)) > tol):\n",
    "        c = (a+b)/2\n",
    "        if(dxc2(c,t,dof) < 0):\n",
    "            a = c\n",
    "        else:\n",
    "            b = c\n",
    "    return c"
   ]
  },
  {
   "cell_type": "code",
   "execution_count": 29,
   "id": "f2e50392",
   "metadata": {},
   "outputs": [],
   "source": [
    "def dxt(a,df,t):\n",
    "    return (studt.cdf(a, df, loc=0, scale=1)-t)\n",
    "def invert_studt(t,df):\n",
    "    a = 10.0 * int(np.sqrt(df/(df-2)))\n",
    "    b = -10.0 * int(np.sqrt(df/(df-2)))\n",
    "    c = (a+b)/2\n",
    "    tol = 0.00001\n",
    "\n",
    "    while(abs(dxt(c,df,t)) > tol):\n",
    "        c = (a+b)/2\n",
    "        if(dxt(c,df,t) > 0):\n",
    "            a = c\n",
    "        else:\n",
    "            b = c\n",
    "    return c"
   ]
  },
  {
   "cell_type": "markdown",
   "id": "a2ddc1cd",
   "metadata": {},
   "source": [
    "#### Exercise 8.3.1. \n",
    "\n",
    "*Verzani* $(2014)$ discusses a data set on healthy individuals, including their temperatures by gender. The data are in the file *tempbygender.rda* and the variables of interest are *maletemp* and *femaletemp*. Download this file from the site listed in the Preface.\n",
    "\n",
    "***(a)*** Obtain comparison boxplots. Comment on the plots. Which, if any, gender seems to have lower temperatures? Based on the width of the boxplots, comment on the assumption of equal variances.\n",
    "\n",
    "***(b)*** As discussed in Example $8.3.3,$ compute the two-sample, two-sided t-test that there is no difference in the true mean temperatures between genders. Obtain the p-value of the test and conclude in terms of the problem at the nominal $\\alpha$-level of $0.05.$\n",
    "\n",
    "***(c)*** Obtain a $95\\%$ confidence interval for the difference in means. What does it mean in terms of the problem?"
   ]
  },
  {
   "cell_type": "markdown",
   "id": "91693250",
   "metadata": {},
   "source": [
    "#### Solution:"
   ]
  },
  {
   "cell_type": "code",
   "execution_count": 30,
   "id": "11ba8f90",
   "metadata": {
    "scrolled": true
   },
   "outputs": [
    {
     "data": {
      "text/html": [
       "<div>\n",
       "<style scoped>\n",
       "    .dataframe tbody tr th:only-of-type {\n",
       "        vertical-align: middle;\n",
       "    }\n",
       "\n",
       "    .dataframe tbody tr th {\n",
       "        vertical-align: top;\n",
       "    }\n",
       "\n",
       "    .dataframe thead th {\n",
       "        text-align: right;\n",
       "    }\n",
       "</style>\n",
       "<table border=\"1\" class=\"dataframe\">\n",
       "  <thead>\n",
       "    <tr style=\"text-align: right;\">\n",
       "      <th></th>\n",
       "      <th>MaleTemp</th>\n",
       "      <th>FemaleTemp</th>\n",
       "    </tr>\n",
       "  </thead>\n",
       "  <tbody>\n",
       "    <tr>\n",
       "      <th>0</th>\n",
       "      <td>96.3</td>\n",
       "      <td>96.4</td>\n",
       "    </tr>\n",
       "    <tr>\n",
       "      <th>1</th>\n",
       "      <td>96.7</td>\n",
       "      <td>96.7</td>\n",
       "    </tr>\n",
       "    <tr>\n",
       "      <th>2</th>\n",
       "      <td>96.9</td>\n",
       "      <td>96.8</td>\n",
       "    </tr>\n",
       "    <tr>\n",
       "      <th>3</th>\n",
       "      <td>97.0</td>\n",
       "      <td>97.2</td>\n",
       "    </tr>\n",
       "    <tr>\n",
       "      <th>4</th>\n",
       "      <td>97.1</td>\n",
       "      <td>97.2</td>\n",
       "    </tr>\n",
       "  </tbody>\n",
       "</table>\n",
       "</div>"
      ],
      "text/plain": [
       "   MaleTemp  FemaleTemp\n",
       "0      96.3        96.4\n",
       "1      96.7        96.7\n",
       "2      96.9        96.8\n",
       "3      97.0        97.2\n",
       "4      97.1        97.2"
      ]
     },
     "execution_count": 30,
     "metadata": {},
     "output_type": "execute_result"
    }
   ],
   "source": [
    "# (a)\n",
    "\n",
    "data = pd.read_csv('data/tempbygender.csv')\n",
    "data.rename(columns={'temp': 'Temperature', 'gender': 'Gender'}, inplace=True)\n",
    "data = data[['Temperature','Gender']].copy()\n",
    "dfm = data[data['Gender']=='male']\n",
    "dfm.reset_index(inplace=True,drop=True)\n",
    "dfm = dfm[['Temperature']].copy()\n",
    "dfm.rename(columns={'Temperature':'MaleTemp'},inplace=True)\n",
    "dff = data[data['Gender']=='female']\n",
    "dff.reset_index(inplace=True,drop=True)\n",
    "dff = dff[['Temperature']].copy()\n",
    "dff.rename(columns={'Temperature':'FemaleTemp'},inplace=True)\n",
    "df_concat = pd.concat([dfm, dff], axis=1)\n",
    "df_concat.head()"
   ]
  },
  {
   "cell_type": "code",
   "execution_count": 31,
   "id": "c024a8e8",
   "metadata": {
    "scrolled": true
   },
   "outputs": [
    {
     "data": {
      "image/png": "[encoded data removed]",
      "text/plain": [
       "<Figure size 720x432 with 1 Axes>"
      ]
     },
     "metadata": {},
     "output_type": "display_data"
    }
   ],
   "source": [
    "plt.figure(figsize = (10,6))\n",
    "\n",
    "sns.set_style('darkgrid')\n",
    "sns.set_palette('Set2')\n",
    "\n",
    "ax = sns.boxplot(x=\"variable\", y=\"value\", data=pd.melt(df_concat))\n",
    "\n",
    "plt.title('Boxplot of Temperatures',fontsize = 16)\n",
    "plt.ylabel('Temperature',fontsize = 14)\n",
    "plt.xlabel('Sex',fontsize = 14)\n",
    "\n",
    "ax.set_yticklabels(ax.get_yticks(), size = 14)\n",
    "ax.set_xticklabels(['Male','Female'], size = 14)\n",
    "\n",
    "plt.show()"
   ]
  },
  {
   "cell_type": "markdown",
   "id": "2b0f8fde",
   "metadata": {},
   "source": [
    "***(a)*** Looks like females run hotter than men. Variance does seem to be higher in men. Interesting to see that there are quite a few outliers in the dataset for females."
   ]
  },
  {
   "cell_type": "code",
   "execution_count": 32,
   "id": "a7b79d02",
   "metadata": {},
   "outputs": [
    {
     "data": {
      "text/plain": [
       "(-2.285434538168411, 0.023931883122226605)"
      ]
     },
     "execution_count": 32,
     "metadata": {},
     "output_type": "execute_result"
    }
   ],
   "source": [
    "# (b)\n",
    "\n",
    "n = len(dfm)\n",
    "m = len(dff)\n",
    "xb = np.mean(dfm['MaleTemp'])\n",
    "yb = np.mean(dff['FemaleTemp'])\n",
    "t = np.sqrt(n*m/(n+m)*(n+m-2))*(xb-yb)/np.sqrt(np.sum(dfm['MaleTemp']**2-xb**2)+np.sum(dff['FemaleTemp']**2-yb**2)) # Equation 8.3.4 of the text\n",
    "p = studt.cdf(t,(n+m-2),loc=0,scale=1)+1-studt.cdf(-1*t,(n+m-2),loc=0,scale=1)\n",
    "t,p"
   ]
  },
  {
   "cell_type": "code",
   "execution_count": 33,
   "id": "88a3658e",
   "metadata": {},
   "outputs": [],
   "source": [
    "# This is not exactly the sp from equation 4.2.11 but basically includes (1/n+1/m) term as well.\n",
    "\n",
    "sp = np.sqrt(np.sum(dfm['MaleTemp']**2-xb**2)+np.sum(dff['FemaleTemp']**2-yb**2))/np.sqrt(n*m/(n+m)*(n+m-2))"
   ]
  },
  {
   "cell_type": "code",
   "execution_count": 34,
   "id": "b3955894",
   "metadata": {},
   "outputs": [
    {
     "data": {
      "text/plain": [
       "(-0.5396506345020899, -0.038810903959420884)"
      ]
     },
     "execution_count": 34,
     "metadata": {},
     "output_type": "execute_result"
    }
   ],
   "source": [
    "# (c)\n",
    "\n",
    "ta = invert_studt(0.975,(n+m-2))\n",
    "\n",
    "(xb-yb-ta*sp,xb-yb+ta*sp) # Directly from equation 4.2.13 from the textbook."
   ]
  },
  {
   "cell_type": "markdown",
   "id": "14633033",
   "metadata": {},
   "source": [
    "#### Answer from the back of the textbook\n",
    "\n",
    "$8.3.1.$ \n",
    "\n",
    "***(b)*** $t = −2.2854,$ $p = 0.02393;$\n",
    "\n",
    "***(c)*** $(−0.5396 − 0.0388).$"
   ]
  },
  {
   "cell_type": "markdown",
   "id": "3a6227e2",
   "metadata": {},
   "source": [
    "#### Exercise 8.3.5. \n",
    "\n",
    "In Example $8.3.2$, the power function for the one-sample t-test is discussed.\n",
    "\n",
    "***(a)*** Plot the power function for the following setup: $X$ has a $N(\\mu,\\sigma^2)$ distribution; $H_0 :\\mu=50$ versus $H_1 :\\mu \\neq 50;$ $\\alpha=0.05;$ $n=25;$ and $\\sigma=10.$\n",
    "\n",
    "***(b)*** Overlay the power curve in ***(a)*** with that for $\\alpha = 0.01.$ Comment.\n",
    "\n",
    "***(c)*** Overlay the power curve in ***(a)*** with that for $n = 35.$ Comment.\n",
    "\n",
    "***(d)*** Determine the smallest value of $n$ so the power exceeds $0.80$ to detect $\\mu = 53.$ *Hint*: Modify the R function *tpowerg.R* so it returns the power for a specified alternative."
   ]
  },
  {
   "cell_type": "markdown",
   "id": "a3101e2e",
   "metadata": {},
   "source": [
    "As usual, the R code *tpowerg.R* was converted to Python through the following website\n",
    "\n",
    "https://www.codeconvert.ai/r-to-python-converter"
   ]
  },
  {
   "cell_type": "code",
   "execution_count": 35,
   "id": "834add49",
   "metadata": {},
   "outputs": [],
   "source": [
    "def tpowerg(mu0, sig, n, alpha=0.05, byv=0.1):\n",
    "    \"\"\"\n",
    "    Graphs power function for t-test of mu = mu0 vs mu not= mu0\n",
    "    \"\"\"\n",
    "    fse = 4 * sig / np.sqrt(n)\n",
    "    maxmu = mu0 + fse\n",
    "    tc = studt.ppf(1 - (alpha / 2), n - 1)\n",
    "    minmu = mu0 - fse\n",
    "    mu1 = np.arange(minmu, maxmu+byv, byv)\n",
    "    delta = (mu1 - mu0) / (sig / np.sqrt(n))\n",
    "    gammas = []\n",
    "    for dlt in delta:\n",
    "        gammas.append(1 - studt.cdf(tc, n - 1, loc=dlt) + studt.cdf(-tc, n - 1, loc=dlt))\n",
    "    return mu1,np.array(gammas)"
   ]
  },
  {
   "cell_type": "code",
   "execution_count": 36,
   "id": "2bbf4d85",
   "metadata": {
    "scrolled": false
   },
   "outputs": [
    {
     "data": {
      "image/png": "[encoded data removed]",
      "text/plain": [
       "<Figure size 864x504 with 1 Axes>"
      ]
     },
     "metadata": {},
     "output_type": "display_data"
    }
   ],
   "source": [
    "# (a)\n",
    "a0 = 0.05\n",
    "sig = 10\n",
    "n0 = 25\n",
    "mu0 = 50\n",
    "\n",
    "mua,gma = tpowerg(mu0, sig, n0, alpha=a0)\n",
    "\n",
    "plt.figure(figsize = (12,7))\n",
    "\n",
    "plt.plot(mua,gma,linewidth=2,color='r')\n",
    "plt.ylabel('Power',fontsize=14)\n",
    "plt.xlabel('Delta $(\\\\delta)$',fontsize=14)\n",
    "plt.title('Power Curve for the nominal case.',fontsize=16,fontweight='bold')\n",
    "plt.show()"
   ]
  },
  {
   "cell_type": "code",
   "execution_count": 37,
   "id": "7d324e5f",
   "metadata": {
    "scrolled": false
   },
   "outputs": [
    {
     "data": {
      "image/png": "[encoded data removed]",
      "text/plain": [
       "<Figure size 864x504 with 1 Axes>"
      ]
     },
     "metadata": {},
     "output_type": "display_data"
    }
   ],
   "source": [
    "# (b)\n",
    "a1 = 0.01\n",
    "\n",
    "mub,gmb = tpowerg(mu0, sig, n0, alpha=a1)\n",
    "\n",
    "plt.figure(figsize = (12,7))\n",
    "\n",
    "plt.plot(mua,gma,linewidth=2,color='g')\n",
    "plt.plot(mub,gmb,linewidth=2,color='r')\n",
    "plt.ylabel('Power',fontsize=14)\n",
    "plt.xlabel('Delta $(\\\\delta)$',fontsize=14)\n",
    "plt.title('Power Curve for part (b).',fontsize=16,fontweight='bold')\n",
    "plt.legend(['(a) $\\\\alpha = 0.05$', '(b) $\\\\alpha = 0.01$'])\n",
    "plt.show()"
   ]
  },
  {
   "cell_type": "markdown",
   "id": "2ea33c5a",
   "metadata": {},
   "source": [
    "#### Comment for part (b):\n",
    "\n",
    "Lower significance level implies poorer power."
   ]
  },
  {
   "cell_type": "code",
   "execution_count": 38,
   "id": "df822a95",
   "metadata": {
    "scrolled": false
   },
   "outputs": [
    {
     "data": {
      "image/png": "[encoded data removed]",
      "text/plain": [
       "<Figure size 864x504 with 1 Axes>"
      ]
     },
     "metadata": {},
     "output_type": "display_data"
    }
   ],
   "source": [
    "# (c)\n",
    "n1 = 35\n",
    "\n",
    "muc,gmc = tpowerg(mu0, sig, n1, alpha=a0)\n",
    "\n",
    "plt.figure(figsize = (12,7))\n",
    "\n",
    "plt.plot(mua,gma,linewidth=2,color='r')\n",
    "plt.plot(muc,gmc,linewidth=2,color='g')\n",
    "plt.ylabel('Power',fontsize=14)\n",
    "plt.xlabel('Delta $(\\\\delta)$',fontsize=14)\n",
    "plt.title('Power Curve for part (c).',fontsize=16,fontweight='bold')\n",
    "plt.legend(['(a) $n = 25$', '(c) $n = 35$'])\n",
    "plt.show()"
   ]
  },
  {
   "cell_type": "markdown",
   "id": "8d37f947",
   "metadata": {},
   "source": [
    "#### Comment for part (c):\n",
    "\n",
    "More samples implies better power."
   ]
  },
  {
   "cell_type": "code",
   "execution_count": 39,
   "id": "9f8e446a",
   "metadata": {},
   "outputs": [],
   "source": [
    "def tpowern(mu0,mu1 ,sig, alpha=0.05, nmax = 200):\n",
    "    \"\"\"\n",
    "    Graphs power function for t-test of mu = mu0 vs mu not= mu0\n",
    "    \"\"\"\n",
    "    nsample = [i for i in range(1,nmax+1)]\n",
    "    gammas = []\n",
    "    for n in nsample:\n",
    "        fse = 4 * sig / np.sqrt(n)\n",
    "        maxmu = mu0 + fse\n",
    "        tc = studt.ppf(1 - (alpha / 2), n - 1)\n",
    "        minmu = mu0 - fse\n",
    "        delta = (mu1 - mu0) / (sig / np.sqrt(n))\n",
    "        gammas.append(1 - studt.cdf(tc, n - 1, loc=delta) + studt.cdf(-tc, n - 1, loc=delta))\n",
    "        \n",
    "    return nsample,np.array(gammas)"
   ]
  },
  {
   "cell_type": "code",
   "execution_count": 40,
   "id": "8bccf1d4",
   "metadata": {
    "scrolled": true
   },
   "outputs": [
    {
     "data": {
      "image/png": "[encoded data removed]",
      "text/plain": [
       "<Figure size 864x504 with 1 Axes>"
      ]
     },
     "metadata": {},
     "output_type": "display_data"
    }
   ],
   "source": [
    "# (d)\n",
    "\n",
    "mud = 53\n",
    "nsamplesd,gmd = tpowern(mu0,mud ,sig,a0,200)\n",
    "\n",
    "plt.figure(figsize = (12,7))\n",
    "\n",
    "plt.plot(nsamplesd,gmd,linewidth=2,color='r')\n",
    "plt.ylabel('Power',fontsize=14)\n",
    "plt.xlabel('Nsamples',fontsize=14)\n",
    "plt.title('Power Curve as a function of number of samples -- Part (d).',fontsize=16,fontweight='bold')\n",
    "plt.show()"
   ]
  },
  {
   "cell_type": "code",
   "execution_count": 41,
   "id": "fefae9b7",
   "metadata": {},
   "outputs": [
    {
     "name": "stdout",
     "output_type": "stream",
     "text": [
      "Number of samples needed to have a power of 0.8 is n=90\n"
     ]
    }
   ],
   "source": [
    "nd0 = np.where(gmd>0.8)[0][0]\n",
    "nd = nsamplesd[nd0]\n",
    "print('Number of samples needed to have a power of 0.8 is n='+str(nd))"
   ]
  },
  {
   "cell_type": "markdown",
   "id": "267ccfd3",
   "metadata": {},
   "source": [
    "#### Answer from the back of the texbook\n",
    "\n",
    "8.3.5. \n",
    "\n",
    "***(d)*** $n = 90.$"
   ]
  },
  {
   "cell_type": "markdown",
   "id": "e2654008",
   "metadata": {},
   "source": [
    "#### Exercise 8.3.6. \n",
    "\n",
    "The effect that a certain drug (Drug A) has on increasing blood pressure is a major concern. It is thought that a modification of the drug (Drug B) will lessen the increase in blood pressure. Let $\\mu_A$ and $\\mu_B$ be the true mean increases in blood pressure due to Drug A and B, respectively. The hypotheses of interest are $H_0 : \\mu_A = \\mu_B = 0$ versus $H1 : \\mu_A > \\mu_B = 0.$ The two-sample t-test statistic discussed in Example $8.3.3$ is to be used to conduct the analysis. The nominal level is set at $\\alpha = 0.05.$ For the experimental design assume that the sample sizes are the same ; i.e., $m=n.$ Also, based on data from Drug A, $\\sigma=30$ seems to be a reasonable selection for the common standard deviation. Determine the common sample size, so that the difference in means $\\mu_A − \\mu_B = 12$ has an $80\\%$ detection rate. Suppose when the experiment is over, due to patients dropping out, the sample sizes for Drugs A and B are respectively $n = 72$ and $m = 68.$ What was the actual power of the experiment to detect the difference of $12$?\n"
   ]
  },
  {
   "cell_type": "markdown",
   "id": "6e808a2b",
   "metadata": {},
   "source": [
    "#### Solution\n",
    "\n",
    "This is a one sided test. So the parameters from the text will change appropriately.\n",
    "\n",
    "$t = qt(1-\\alpha, (n+m-2))$ instead of $t = qt(1-\\alpha/2, (n+m-2))$ (the R code to find the critical value), the noncentrality parameter $\\delta_2$ remains the same, and the R code for power is $1- pt(t,(n+m-2),ncp=\\delta_2).$"
   ]
  },
  {
   "cell_type": "code",
   "execution_count": 42,
   "id": "46035cbb",
   "metadata": {},
   "outputs": [],
   "source": [
    "def get_tstat(xlist,ylist):\n",
    "    nx = len(xlist)\n",
    "    ny = len(ylist)\n",
    "    xb = np.mean(xlist)\n",
    "    yb = np.mean(ylist)\n",
    "    sbx = np.sum([(xi-xb)**2 for xi in xlist])\n",
    "    sby = np.sum([(yi-yb)**2 for yi in ylist])\n",
    "    sb = (sbx+sby)/(nx+my-2)\n",
    "    tstat = np.sqrt(nx*my/(nx+my))*(xb-yb)/np.sqrt(sb)\n",
    "    return tstat\n",
    "\n",
    "def get_delta(n,m,dlta,sgma):\n",
    "    return np.sqrt(n*m/(n+m))*dlta/sgma"
   ]
  },
  {
   "cell_type": "code",
   "execution_count": 43,
   "id": "f93ba176",
   "metadata": {},
   "outputs": [],
   "source": [
    "def get_pwr(n,m,dlta,sgma,alph):\n",
    "    t=studt.ppf(1-alph,(n+m-2),loc=0,scale=1)\n",
    "    d2 = get_delta(n,m,dlta,sgma)\n",
    "    return (1-nct.cdf(t,(n+m-2),nc=d2,loc=0,scale=1))\n",
    "\n",
    "def get_sample_size(dlta,sgma,alph,pwr):\n",
    "    for i in range(20,100):\n",
    "        thispwr = get_pwr(i,i,dlta,sgma,alph)\n",
    "        if(thispwr > pwr):\n",
    "            return i"
   ]
  },
  {
   "cell_type": "code",
   "execution_count": 44,
   "id": "d73de194",
   "metadata": {
    "scrolled": false
   },
   "outputs": [
    {
     "name": "stdout",
     "output_type": "stream",
     "text": [
      "78 0.8001474172270311 0.7608348045643307\n"
     ]
    }
   ],
   "source": [
    "print(get_sample_size(12,30,0.05,0.8),get_pwr(78,78,12,30,0.05),get_pwr(72,68,12,30,0.05))"
   ]
  },
  {
   "cell_type": "markdown",
   "id": "3a4e345a",
   "metadata": {},
   "source": [
    "#### Answer from the back of the book:\n",
    "\n",
    "***8.3.6*** $78$; $0.7608.$"
   ]
  },
  {
   "cell_type": "markdown",
   "id": "e8591c8a",
   "metadata": {},
   "source": [
    "#### Exercise 8.3.8. \n",
    "\n",
    "Let $X_1,X_2,\\cdots,X_n$ be a random sample from the normal distribution $N(\\theta,1).$ Show that the likelihood ratio principle for testing $H_0 : \\theta = \\theta',$ where $\\theta'$ is specified,\n",
    "against $H_1 : \\theta  \\neq \\theta'$ leads to the inequality $\\lvert x − \\theta' \\rvert \\geq c.$\n",
    "\n",
    "***(a)*** Is this a uniformly most powerful test of $H_0$ against $H_1$?\n",
    "\n",
    "***(b)*** Is this a uniformly most powerful unbiased test of $H_0$ against $H_1$?"
   ]
  },
  {
   "cell_type": "markdown",
   "id": "2155bedd",
   "metadata": {},
   "source": [
    "#### Solution:\n",
    "\n",
    "***(a)*** In example $8.2.3$, it was shown that there is no UMP test of $H_0$ against $H_1$.\n",
    "\n",
    "***(b)*** Look at Example $27-3$ in \n",
    "\n",
    "https://online.stat.psu.edu/stat415/book/export/html/847\n",
    "\n",
    "The likelihood ratio turns out to be\n",
    "\n",
    "$$\n",
    "\\begin{align}\n",
    "\\frac{L(\\hat{\\omega})}{L(\\hat{\\Omega})} &= \\cfrac{\\left(\\frac{1}{2\\pi}\\right)^n}{\\left(\\frac{1}{2\\pi}\\right)^n} \\frac{\\exp{\\left [ -\\sum_{i=1}^n(x_i-\\theta')^2/2 \\right ]}}{\\exp{\\left [ -\\sum_{i=1}^n(x_i-\\overline{x})^2/2 \\right ]}} \\\\\n",
    "&= \\exp{\\left [ \\frac{-n(\\overline{x}-\\theta')^2}{2} \\right ]} \\\\\n",
    "&\\leq c_1 \\\\\n",
    "\\Longleftrightarrow ~~  -\\frac{n(\\overline{x}-\\theta')^2}{2}  &\\leq \\log{c_1} \\\\\n",
    "\\Longleftrightarrow \\lvert x − \\theta' \\rvert &\\geq c_2\n",
    "\\end{align}\n",
    "$$\n",
    "\n",
    "where $$c_2 = \\sqrt{-\\frac{2}{n}\\log{c_1}}.$$\n",
    "\n",
    "Note that proving that this is UMPU is not straightforward. We can prove that this likelihood ratio test is unbiased, and we have to use the statement of the authors on page $488$ -- \"Then it follows from Lehmann that it is an UMP unbiased level α test.\" But an actual proof that this test is UMPU is in Lemma $2.1$ of https://sites.stat.washington.edu/jaw/COURSES/580s/581/LECTNOTES/ch6a.pdf and the same proof can be found in https://www2.stat.duke.edu/courses/Spring22/sta732.01/lecture20.pdf . These are actually from Lehmann and Romano's book \"Testing Statistical Hypothesis\" and this proof requires more theoretical background like $\\alpha-$similarity. All we can do is to prove that this test is unbiased and have to leave it at that. The part that this is unbiased has a proof exactly same as in exercise $8.3.21.$\n",
    "\n",
    "Related SE links:\n",
    "\n",
    "https://stats.stackexchange.com/a/267068/183497\n",
    "\n",
    "https://stats.stackexchange.com/a/478472/183497\n",
    "\n",
    "https://math.stackexchange.com/a/4503996/145325\n",
    "\n",
    "https://stats.stackexchange.com/a/657874/183497\n",
    "\n",
    "Following is a great video lecture on UMP unbiased test:\n",
    "\n",
    "https://youtu.be/I7ZjISYU6N8?si=leqpkSgNF8x-c2Gd"
   ]
  },
  {
   "cell_type": "markdown",
   "id": "9d67d658",
   "metadata": {},
   "source": [
    "#### Exercise 8.3.9. \n",
    "\n",
    "Let $X_1,X_2,\\cdots,X_n$ be iid $N(\\theta_1,\\theta_2).$ Show that the likelihood ratio principle for testing $H_0 : \\theta_2 = \\theta_2'$ specified, and $\\theta_1$ unspecified, against $H_1 : \\theta_2  \\neq \\theta_2' ,$ $\\theta_1$ unspecified, leads to a test that rejects when $\\sum_{i=1}^n (x_i −\\overline{x})^2 \\leq c_1$ or $\\sum_{i=1}^n (x_i −\\overline{x})^2 \\geq c_2$, where $c_1 < c_2$ are selected appropriately.\n"
   ]
  },
  {
   "cell_type": "markdown",
   "id": "3087e5a0",
   "metadata": {},
   "source": [
    "#### Comments:\n",
    "\n",
    "This question is exactly same as exercise $6.5.4$ and Tomoki's solution over there is quite complete. \n",
    "\n",
    "Following is a SE link that clearly explains the complete throught process.\n",
    "\n",
    "https://stats.stackexchange.com/questions/189153/likelihood-ratio-test-for-the-variance-of-a-normal-distribution\n",
    "\n",
    "and so does the following one resembling Tomoki's approach\n",
    "\n",
    "https://stats.stackexchange.com/a/457763/183497"
   ]
  },
  {
   "cell_type": "markdown",
   "id": "e7d7b853",
   "metadata": {},
   "source": [
    "#### Exercise 8.3.10. \n",
    "\n",
    "For the situation discussed in Example $8.3.5$, derive the power function for the likelihood ratio test statistic given in expression $(8.3.9).$"
   ]
  },
  {
   "cell_type": "markdown",
   "id": "860198d3",
   "metadata": {},
   "source": [
    "#### Solution:\n",
    "\n",
    "The power function is $P(F \\leq c_1)+P(F \\geq c_2)$ under the alternative hypothesis $H_1 : \\theta_3 \\neq \\theta_4$. Here, $c_1$ and $c_2$ are found using $P(F \\leq c_1) = \\alpha/2$ and $P(F \\geq c_2) = \\alpha/2$ under the null hypothesis $H_0 : \\theta_3 = \\theta_4$. Also, $F$ is given by \n",
    "\n",
    "$$\n",
    "F = \\frac{\\sum_{i=1}^n (X_i-\\overline{X})^2/(n-1)}{\\sum_{j=1}^m (Y_j-\\overline{Y})^2/(m-1)}. \\tag{8.3.9}\n",
    "$$\n",
    "\n",
    "This does have $F-$distribution under the null hypothesis as both the numerator and denomenator of the expression above have an expectation of $\\theta_3 = \\theta_4$. So by dividing them by the variance, we get a numerator and denomenator with $\\chi^2$ distribution which has an $F-$distribution.\n",
    "\n",
    "For the power function though, we need $P(F \\leq c_1)+P(F \\geq c_2)$ under the alternative hypothesis where $\\theta_3 \\neq \\theta_4$. Under the alternative hypothesis, $F \\times \\theta_4/\\theta_3$ has $F-$distribution and hence the power function will be $1-F(c_2 \\times \\theta_4/\\theta_3)+F(c_1 \\times \\theta_4/\\theta_3)$ where now $F()$ is the cdf of $F-$distribution with $n-1$ and $m-1$ degrees of freedom."
   ]
  },
  {
   "cell_type": "markdown",
   "id": "eaa7d718",
   "metadata": {},
   "source": [
    "#### Exercise 8.3.11. \n",
    "\n",
    "Let $X_1,\\cdots,X_n$ and $Y_1,\\cdots,Y_m$ be independent random samples from the distributions $N(\\theta_1,\\theta_3)$ and $N(\\theta_2,\\theta_4),$ respectively.\n",
    "\n",
    "***(a)*** Show that the likelihood ratio for testing $H_0 : \\theta_1 = \\theta_2,$ $\\theta_3 = \\theta_4$ against all alternatives is given by\n",
    "\n",
    "$$\n",
    "\\dfrac{\\Bigg [ \\displaystyle \\sum_{i=1}^n(x_i - \\overline{x})^2 \\Big/ n \\Bigg ]^{n/2} \\Bigg [ \\sum_{j=1}^m(y_j - \\overline{y})^2 \\Big/m \\Bigg ]^{m/2}}{\\left \\{ \\Bigg [ \\displaystyle\\sum_{i=1}^n(x_i - u)^2 + \\sum_{j=1}^m(y_j - u)^2 \\Bigg ] \\Big/(n+m)\\right \\}^{(n+m)/2}}\n",
    "$$\n",
    "\n",
    "where $u = (n\\overline{x}+m\\overline{y})/(n+m)$.\n",
    "\n",
    "***(b)*** Show that the likelihood ratio for testing $H_0 : \\theta_3 = \\theta_4$ with $\\theta_1$ and $\\theta_2$ unspecified can be based on the test statistic $F$ given in expression $(8.3.9).$"
   ]
  },
  {
   "cell_type": "markdown",
   "id": "8abb40a5",
   "metadata": {},
   "source": [
    "#### Solution:\n",
    "\n",
    "***(a)*** We have\n",
    "\n",
    "$$\n",
    "\\begin{align}\n",
    "L(\\omega) &= \\left( \\frac{1}{2\\pi\\theta_3} \\right)^{(n+m)/2}\\exp{\\left [ -\\frac{\\sum_{i=1}^n(x_i - \\theta_1)^2 + \\sum_{j=1}^m(y_j - \\theta_1)^2}{2\\theta_3} \\right]} \\\\\n",
    "L(\\Omega) &= \\left( \\frac{1}{2\\pi\\theta_3} \\right)^{n/2}\\exp{\\left [ -\\frac{\\sum_{i=1}^n(x_i - \\theta_1)^2}{2\\theta_3} \\right]} \\times \\left( \\frac{1}{2\\pi\\theta_4} \\right)^{m/2}\\exp{\\left [ -\\frac{\\sum_{j=1}^m(y_j - \\theta_2)^2}{2\\theta_4} \\right]}.\n",
    "\\end{align}\n",
    "$$\n",
    "\n",
    "The MLE under $H_0$ is as if we are maximizing the pooled sample (with common parameters of course) of size $n+m$ whose distribution is $N(\\theta_1,\\theta_3).$ So we get the likelihood ratio when maximized, as\n",
    "\n",
    "$$\n",
    "L(\\hat{\\omega}) = \\left ( \\cfrac{e^{-1}}{2 \\pi w_0} \\right )^{(n+m)/2}\n",
    "$$\n",
    "\n",
    "where\n",
    "\n",
    "$$\n",
    "w_0 =  \\Bigg \\{ \\displaystyle\\sum_{i=1}^n(x_i - u)^2 + \\sum_{j=1}^m(y_j - u)^2 \\Bigg \\} \\Big/(n+m)\n",
    "$$\n",
    " \n",
    "where\n",
    "\n",
    "$$\n",
    "u = \\frac{\\sum_{i=1}^n(x_i) + \\sum_{j=1}^m(y_j)}{n+m}\n",
    "$$\n",
    "\n",
    "which happens to be same as\n",
    "\n",
    "$$u = \\frac{n\\overline{x}+m\\overline{y}}{n+m}$$.\n",
    "\n",
    "As regards to the alternative, it is just the product of the individual likelihoods of the two samples that have different parameters. So when maximized, it is basically same as maximizing the individual likelihoods so that we have\n",
    "\n",
    "$$\n",
    "L(\\hat{\\Omega}) = \\left ( \\cfrac{e^{-1}}{2 \\pi w_x} \\right )^{n/2} \\left ( \\cfrac{e^{-1}}{2 \\pi w_y} \\right )^{m/2}\n",
    "$$\n",
    "\n",
    "where\n",
    "\n",
    "$$\n",
    "\\begin{align}\n",
    "w_x &=  \\frac{1}{n} \\displaystyle\\sum_{i=1}^n(x_i - \\overline{x})^2 \\\\\n",
    "w_x &=  \\frac{1}{m} \\displaystyle\\sum_{j=1}^m(y_j - \\overline{y})^2\n",
    "\\end{align}\n",
    "$$\n",
    "\n",
    "so that \n",
    "\n",
    "$$\n",
    "\\begin{align}\n",
    "\\Lambda &= \\cfrac{L(\\hat{\\omega})}{L(\\hat{\\Omega})} \\\\\n",
    "&= \\cfrac{w_x^{n/2}w_y^{m/2}}{w_0^{(n+m)/2}}\\\\\n",
    "&= \\dfrac{\\Bigg [ \\displaystyle \\sum_{i=1}^n(x_i - \\overline{x})^2 \\Big/ n \\Bigg ]^{n/2} \\Bigg [ \\sum_{j=1}^m(y_j - \\overline{y})^2 \\Big/m \\Bigg ]^{m/2}}{\\left \\{ \\Bigg [ \\displaystyle\\sum_{i=1}^n(x_i - u)^2 + \\sum_{j=1}^m(y_j - u)^2 \\Bigg ] \\Big/(n+m)\\right \\}^{(n+m)/2}}\n",
    "\\end{align}\n",
    "$$\n",
    "\n",
    "where $u = (n\\overline{x}+m\\overline{y})/(n+m)$."
   ]
  },
  {
   "cell_type": "markdown",
   "id": "0f5726f2",
   "metadata": {},
   "source": [
    "***(b)*** The hypothesis $H_0$ is same as the alternative $H_1$ of example $8.3.1$ where it was shown that the linkelihood ratio, after maximizing, is given by\n",
    "\n",
    "$$\n",
    "L(\\hat{\\omega}) = \\left ( \\cfrac{e^{-1}}{2 \\pi w'_0} \\right )^{(n+m)/2}\n",
    "$$\n",
    "\n",
    "where\n",
    "\n",
    "$$\n",
    "w'_0 =  \\Bigg \\{ \\displaystyle\\sum_{i=1}^n(x_i - \\overline{x})^2 + \\sum_{j=1}^m(y_j - \\overline{y})^2 \\Bigg \\} \\Big/(n+m)\n",
    "$$\n",
    "\n",
    "whereas the maximized likelihood under the alternative, $L(\\hat{\\Omega})$, remains the same as in part ***(a)*** given by\n",
    "\n",
    "$$\n",
    "L(\\hat{\\Omega}) = \\left ( \\cfrac{e^{-1}}{2 \\pi w_x} \\right )^{n/2} \\left ( \\cfrac{e^{-1}}{2 \\pi w_y} \\right )^{m/2}\n",
    "$$\n",
    "\n",
    "where\n",
    "\n",
    "$$\n",
    "\\begin{align}\n",
    "w_x &=  \\frac{1}{n} \\displaystyle\\sum_{i=1}^n(x_i - \\overline{x})^2 \\\\\n",
    "w_x &=  \\frac{1}{m} \\displaystyle\\sum_{j=1}^m(y_j - \\overline{y})^2.\n",
    "\\end{align}\n",
    "$$\n",
    "\n",
    "Hence the likelihood ratio ends up being\n",
    "\n",
    "$$\n",
    "\\begin{align}\n",
    "\\Lambda &= \\cfrac{L(\\hat{\\omega})}{L(\\hat{\\Omega})} \\\\\n",
    "&= \\cfrac{w_x^{n/2}w_y^{m/2}}{w_0^{(n+m)/2}}\\\\\n",
    "&= \\dfrac{\\Bigg [ \\displaystyle \\sum_{i=1}^n(x_i - \\overline{x})^2 \\Big/ n \\Bigg ]^{n/2} \\Bigg [ \\sum_{j=1}^m(y_j - \\overline{y})^2 \\Big/m \\Bigg ]^{m/2}}{\\left \\{ \\Bigg [ \\displaystyle \\sum_{i=1}^n(x_i - \\overline{x})^2 + \\sum_{j=1}^m(y_j - \\overline{y})^2 \\Bigg ] \\Big/(n+m)\\right \\}^{(n+m)/2}} \\\\\n",
    "&= \\dfrac{(n+m)^{(n+m)/2}}{n^{n/2}m^{m/2}} \\dfrac{\\left [\\displaystyle \\sum_{i=1}^n(x_i - \\overline{x})^2 \\Big/ \\sum_{j=1}^m(y_j - \\overline{y})^2 \\right]^{n/2}}{\\left [1 + \\displaystyle \\sum_{i=1}^n(x_i - \\overline{x})^2 \\Big/ \\sum_{j=1}^m(y_j - \\overline{y})^2 \\right]^{(n+m)/2}} \\\\\n",
    "&\\propto \\dfrac{F^{n/2}}{\\left[ \\displaystyle 1 + \\frac{n-1}{m-1}F \\right]^{(n+m)/2}}.\n",
    "\\end{align}\n",
    "$$\n",
    "\n",
    "This kind of function has a unimodal characteristic which dies down for too low or too high a value of $F$ as shown in https://stats.stackexchange.com/a/457763/183497. So a test like $\\Lambda \\leq c$ will be equivalent to $F \\leq c_1$ or $F \\geq c_2$. Hence we can conclude that such a test can be based on the statistic $F$ given in expression $(8.3.9)$."
   ]
  },
  {
   "cell_type": "markdown",
   "id": "b8318095",
   "metadata": {},
   "source": [
    "#### Exercise 8.3.12. \n",
    "\n",
    "Let $Y_1 < Y_2 < \\cdots < Y_5$ be the order statistics of a random sample of size $n = 5$ from a distribution with pdf $f(x;\\theta) = \\frac{1}{2} \\exp{−|x−\\theta|},$ $−\\infty < x < \\infty,$ for all real $\\theta.$ Find the likelihood ratio test $\\Lambda$ for testing $H_0 : \\theta = \\theta_0$ against $H_1 : \\theta  \\neq \\theta_0.$"
   ]
  },
  {
   "cell_type": "markdown",
   "id": "5bf1fbd3",
   "metadata": {},
   "source": [
    "#### Solution:\n",
    "\n",
    "Not sure why this exercise was even given because it is a repeat of example $6.3.4.$ Right after equation $6.3.24,$ we can see that the \"Wald\" test statistic was found to be $\\chi_W^2 = \\left[ \\sqrt{n}(\\theta_0-Q_2)\\right]^2$ and the \"Wald\" test is $\\chi_W^2 \\geq \\chi_\\alpha^2(1).$ This is an asymptotic test. If we translate it to the present situation, it comes out to be equivalent to $\\lvert y_3-\\theta_0\\rvert \\geq c,$ matching the answer given at the back of the book.\n",
    "\n",
    "The solutions manual and Tomoki's solution suggest some type of an identity like \n",
    "\n",
    "$$\\sum_{i=1}^n \\lvert (x_i-\\theta_0)\\rvert = \\sum_{i=1}^n \\lvert (x_i-y_3)\\rvert + n \\lvert (y_3-\\theta_0)\\rvert$$\n",
    "\n",
    "or \n",
    "\n",
    "$$\\sum_{i=1}^n \\lvert (x_i-\\theta_0)\\rvert = \\sum_{i=1}^n \\lvert (x_i-y_3)\\rvert + \\lvert (y_3-\\theta_0)\\rvert$$\n",
    "\n",
    "but as the simple code below shows, there is no such relationship. The Fischer information turns out to be $1$, due to which the \"asymptotic Wald\" test in section $6.3$ results in the final answer and not because of any other identity as mentioned in solutions manuals (which are clearly false)."
   ]
  },
  {
   "cell_type": "code",
   "execution_count": 45,
   "id": "6758ed83",
   "metadata": {},
   "outputs": [
    {
     "name": "stdout",
     "output_type": "stream",
     "text": [
      "1 18 6\n",
      "4 5 3\n",
      "8 1 1\n",
      "10 5 3\n",
      "12 13 5\n"
     ]
    }
   ],
   "source": [
    "xlist = [3,5,7,9,11]\n",
    "tlist = [1,4,8,10,12]\n",
    "\n",
    "q2 = xlist[int((len(xlist)-1)/2)]\n",
    "\n",
    "for teta in tlist:\n",
    "    thissum = 0\n",
    "    for i in range(len(xlist)):\n",
    "        thissum = thissum+np.abs(xlist[i]-teta)-np.abs(xlist[i]-q2)\n",
    "    target = np.abs(teta-q2)\n",
    "    print(teta,thissum,target)"
   ]
  },
  {
   "cell_type": "markdown",
   "id": "1a868633",
   "metadata": {},
   "source": [
    "#### Exercise 8.3.15. \n",
    "\n",
    "Let $X_1, X_2, \\cdots , X_n$ and $Y_1, Y_2, \\cdots , Y_n$ be independent random samples from two normal distributions $N(\\mu_1,\\sigma^2)$ and $N(\\mu_2,\\sigma^2),$ respectively, where $\\sigma^2$ is the common but unknown variance.\n",
    "\n",
    "***(a)*** Find the likelihood ratio $\\Lambda$ for testing $H_0 : \\mu_1 = \\mu_2 = 0$ against all alternatives.\n",
    "\n",
    "***(b)*** Rewrite $\\Lambda$ so that it is a function of a statistic $Z$ which has a well-known distribution.\n",
    "\n",
    "***(c)*** Give the distribution of $Z$ under both null and alternative hypotheses."
   ]
  },
  {
   "cell_type": "markdown",
   "id": "febbe0bc",
   "metadata": {},
   "source": [
    "#### My attempt:\n",
    "\n",
    "Wouldn't dare call this a solution!!\n",
    "\n",
    "This was asked on SE but at the time of typing this, the solution given does not seem right.\n",
    "\n",
    "https://stats.stackexchange.com/q/599057/183497\n",
    "\n",
    "***(a) and (b)*** The random variable $\\Lambda^{1/n}$ (following the footsteps of example $8.3.1$) comes out to be\n",
    "\n",
    "$$\n",
    "\\begin{align}\n",
    "\\Lambda^{1/n} &= \\dfrac{\\displaystyle \\sum_{i=1}^n(X_i - \\bar{X})^2 + \\sum_{j=1}^n(Y_j - \\bar{Y})^2}{\\displaystyle \\sum_{i=1}^n X_i^2 + \\sum_{j=1}^n Y_j^2} \\\\\n",
    "&= \\dfrac{\\displaystyle \\sum_{i=1}^n(X_i - \\bar{X})^2 + \\sum_{j=1}^n(Y_j - \\bar{Y})^2}{\\displaystyle \\sum_{i=1}^n(X_i - \\bar{X})^2 + \\sum_{j=1}^n(Y_j - \\bar{Y})^2 +n(\\overline{X}^2+\\overline{Y}^2)} \\\\\n",
    "&= \\dfrac{1}{1+n\\cfrac{\\overline{X}^2+\\overline{Y}^2}{\\displaystyle \\sum_{i=1}^n(X_i - \\bar{X})^2 + \\sum_{j=1}^n(Y_j - \\bar{Y})^2}} \\\\\n",
    "&= \\dfrac{1}{1+\\cfrac{n \\left(\\overline{X}^2+\\overline{Y}^2\\right) \\Big/ \\sigma^2}{(n-1)\\left( \\displaystyle \\frac{\\sum_{i=1}^n(X_i - \\bar{X})^2}{n-1} + \\frac{\\sum_{j=1}^n(Y_j - \\bar{Y})^2}{n-1} \\right ) \\Bigg/ \\sigma^2} }\n",
    "\\end{align}\n",
    "$$\n",
    "\n",
    "so that we can base our test on the statistic\n",
    "\n",
    "$$\n",
    "Z = \\cfrac{n \\left(\\overline{X}^2+\\overline{Y}^2\\right) \\Big/ \\sigma^2}{\\left( \\displaystyle \\frac{\\sum_{i=1}^n(X_i - \\bar{X})^2}{n-1} + \\frac{\\sum_{j=1}^n(Y_j - \\bar{Y})^2}{n-1} \\right ) \\Bigg/ \\sigma^2}.\n",
    "$$\n",
    "\n",
    "Now in section $3.6$, it is shown that $\\overline{X}$ and $X_i-\\overline{X}$ are independent. Obviously, $\\overline{X}$ is independent of $Y_j-\\overline{Y}$ and $\\overline{Y}$. So the numerator and denomenator of the expression for $Z$ above are independent. The ratio is a ratio of two independent random variables with chi-squared distribution and hence has an F-distribution under null. \n",
    "\n",
    "***(c)*** As mentioned above, $Z$ has an F-distribution under null. Under alternative, it is the so called non-central F-distribution."
   ]
  },
  {
   "cell_type": "markdown",
   "id": "f09b94b5",
   "metadata": {},
   "source": [
    "#### Exercise 8.3.16.\n",
    "\n",
    "There are solutions for it in the SE link below. Not spending anymore time on this huge exercise set.\n",
    "\n",
    "https://stats.stackexchange.com/q/142395/183497"
   ]
  },
  {
   "cell_type": "markdown",
   "id": "7759fc42",
   "metadata": {},
   "source": [
    "#### Exercise 8.3.17. \n",
    "\n",
    "Let $X$ be a random variable with pdf $f_X(x) = (2b_X)^{−1} \\exp\\{−|x|/b_X\\},$ for $−\\infty<x<\\infty$ and $b_X>0.$ First, show that the variance of $X$ is $\\sigma_X^2 =2b_X^2.$ Next, let $Y$ , independent of $X$, have pdf $f_Y (y) = (2b_Y )^{−1} \\exp\\{−|y|/b_Y \\},$ for $−\\infty < x < \\infty$ and $b_Y > 0.$ Consider the hypotheses\n",
    "\n",
    "$$H_0 : \\sigma_X^2 = \\sigma_Y^2 ~~\\text{versus}~~ H_1 : \\sigma_X^2 > \\sigma_Y^2 .$$\n",
    "\n",
    "To illustrate Remark $8.3.2$ for testing these hypotheses, consider the following data set (data are also in the file exercise$8316$.rda). Sample $1$ represents the values of a sample drawn on $X$ with $b_X = 1,$ while Sample $2$ represents the values of a sample drawn on $Y$ with $b_Y = 1.$ Hence, in this case $H_0$ is true.\n",
    "\n",
    "***(a)*** Obtain comparison boxplots of these two samples. Comparison boxplots consist of boxplots of both samples drawn on the same scale. Based on these plots, in particular the interquartile ranges, what do you conclude about $H_0$?\n",
    "\n",
    "***(b)*** Obtain the F-test (for a one-sided hypothesis) as discussed in Remark $8.3.2$ at level $\\alpha = 0.10.$ What is your conclusion?\n",
    "\n",
    "***(c)*** The test in part ***(b)*** is not exact. Why?"
   ]
  },
  {
   "cell_type": "markdown",
   "id": "89f422c3",
   "metadata": {},
   "source": [
    "#### Answer given at the back of the book.\n",
    "\n",
    "$8.3.17$ \n",
    "\n",
    "***(b)*** $F = 1.34;$ $p = 0.088.$"
   ]
  },
  {
   "cell_type": "markdown",
   "id": "3da0a4f5",
   "metadata": {},
   "source": [
    "#### Solution:\n",
    "\n",
    "I am not showing the result about the variance as it is a standard result for a Laplace distribution.\n",
    "\n",
    "https://en.wikipedia.org/wiki/Laplace_distribution\n",
    "\n",
    "The answer given at the back of the book says F-statistic is $1.34$ but I am getting $2.105$. The p-value matches with that given in the book ($0.088$)."
   ]
  },
  {
   "cell_type": "code",
   "execution_count": 46,
   "id": "29ec9b57",
   "metadata": {},
   "outputs": [
    {
     "data": {
      "text/html": [
       "<div>\n",
       "<style scoped>\n",
       "    .dataframe tbody tr th:only-of-type {\n",
       "        vertical-align: middle;\n",
       "    }\n",
       "\n",
       "    .dataframe tbody tr th {\n",
       "        vertical-align: top;\n",
       "    }\n",
       "\n",
       "    .dataframe thead th {\n",
       "        text-align: right;\n",
       "    }\n",
       "</style>\n",
       "<table border=\"1\" class=\"dataframe\">\n",
       "  <thead>\n",
       "    <tr style=\"text-align: right;\">\n",
       "      <th></th>\n",
       "      <th>X</th>\n",
       "      <th>Y</th>\n",
       "    </tr>\n",
       "  </thead>\n",
       "  <tbody>\n",
       "    <tr>\n",
       "      <th>0</th>\n",
       "      <td>-0.389</td>\n",
       "      <td>-1.067</td>\n",
       "    </tr>\n",
       "    <tr>\n",
       "      <th>1</th>\n",
       "      <td>-2.177</td>\n",
       "      <td>-0.577</td>\n",
       "    </tr>\n",
       "    <tr>\n",
       "      <th>2</th>\n",
       "      <td>0.813</td>\n",
       "      <td>0.361</td>\n",
       "    </tr>\n",
       "    <tr>\n",
       "      <th>3</th>\n",
       "      <td>-0.001</td>\n",
       "      <td>-0.680</td>\n",
       "    </tr>\n",
       "    <tr>\n",
       "      <th>4</th>\n",
       "      <td>-0.110</td>\n",
       "      <td>-0.634</td>\n",
       "    </tr>\n",
       "  </tbody>\n",
       "</table>\n",
       "</div>"
      ],
      "text/plain": [
       "       X      Y\n",
       "0 -0.389 -1.067\n",
       "1 -2.177 -0.577\n",
       "2  0.813  0.361\n",
       "3 -0.001 -0.680\n",
       "4 -0.110 -0.634"
      ]
     },
     "execution_count": 46,
     "metadata": {},
     "output_type": "execute_result"
    }
   ],
   "source": [
    "# (a)\n",
    "\n",
    "data = pd.read_csv('data/exercise8316.csv')\n",
    "data = data[['x','y']].copy()\n",
    "data.rename(columns={'x': 'X', 'y': 'Y'}, inplace=True)\n",
    "data.head()"
   ]
  },
  {
   "cell_type": "code",
   "execution_count": 47,
   "id": "0fda7f72",
   "metadata": {
    "scrolled": true
   },
   "outputs": [
    {
     "data": {
      "image/png": "[encoded data removed]",
      "text/plain": [
       "<Figure size 720x432 with 1 Axes>"
      ]
     },
     "metadata": {},
     "output_type": "display_data"
    }
   ],
   "source": [
    "plt.figure(figsize = (10,6))\n",
    "\n",
    "sns.set_style('darkgrid')\n",
    "sns.set_palette('Set2')\n",
    "\n",
    "ax = sns.boxplot(x=\"variable\", y=\"value\", data=pd.melt(data))\n",
    "\n",
    "plt.title('Boxplot of X and Y',fontsize = 16)\n",
    "plt.ylabel('Values',fontsize = 14)\n",
    "plt.xlabel('Variables',fontsize = 14)\n",
    "\n",
    "ax.set_yticklabels(ax.get_yticks(), size = 14)\n",
    "ax.set_xticklabels(['X','Y'], size = 14)\n",
    "\n",
    "plt.show()"
   ]
  },
  {
   "cell_type": "code",
   "execution_count": 48,
   "id": "57539f5a",
   "metadata": {},
   "outputs": [
    {
     "name": "stdout",
     "output_type": "stream",
     "text": [
      "F-statistic is 2.1050506919097494\n"
     ]
    }
   ],
   "source": [
    "# (b)\n",
    "\n",
    "f = np.var(data['X'],ddof=1)/np.var(data['Y'],ddof=1)\n",
    "n = len(data)\n",
    "a=0.1\n",
    "# print(fdist.ppf(1-a,dfn=(n-1),dfd=(n-1),loc=0,scale=1),f)\n",
    "print('F-statistic is '+str(f))"
   ]
  },
  {
   "cell_type": "code",
   "execution_count": 49,
   "id": "bbb0f892",
   "metadata": {},
   "outputs": [
    {
     "data": {
      "text/plain": [
       "(1.1344547809523808, 0.5389204095238096)"
      ]
     },
     "execution_count": 49,
     "metadata": {},
     "output_type": "execute_result"
    }
   ],
   "source": [
    "np.var(data['X'],ddof=1),np.var(data['Y'],ddof=1)"
   ]
  },
  {
   "cell_type": "code",
   "execution_count": 50,
   "id": "40bad763",
   "metadata": {},
   "outputs": [
    {
     "name": "stdout",
     "output_type": "stream",
     "text": [
      "P value is 0.08804810865056345\n"
     ]
    }
   ],
   "source": [
    "pvalue = (1-fdist.cdf(f,n-1,n-1,0,1))\n",
    "print('P value is '+str(pvalue))"
   ]
  },
  {
   "cell_type": "code",
   "execution_count": 51,
   "id": "074b9bc3",
   "metadata": {},
   "outputs": [
    {
     "data": {
      "text/plain": [
       "1.134454780952381"
      ]
     },
     "execution_count": 51,
     "metadata": {},
     "output_type": "execute_result"
    }
   ],
   "source": [
    "data['Xm'] = data['X']-np.mean(data['X'])\n",
    "data['Xm2'] = data['Xm']*data['Xm']\n",
    "np.sum(data['Xm2'])/(n-1)"
   ]
  },
  {
   "cell_type": "code",
   "execution_count": 52,
   "id": "26c662f7",
   "metadata": {},
   "outputs": [
    {
     "data": {
      "text/plain": [
       "0.5389204095238096"
      ]
     },
     "execution_count": 52,
     "metadata": {},
     "output_type": "execute_result"
    }
   ],
   "source": [
    "data['Ym'] = data['Y']-np.mean(data['Y'])\n",
    "data['Ym2'] = data['Ym']*data['Ym']\n",
    "np.sum(data['Ym2'])/(n-1)"
   ]
  },
  {
   "cell_type": "code",
   "execution_count": 53,
   "id": "056a2f26",
   "metadata": {},
   "outputs": [
    {
     "data": {
      "text/plain": [
       "2.1050506919097494"
      ]
     },
     "execution_count": 53,
     "metadata": {},
     "output_type": "execute_result"
    }
   ],
   "source": [
    "np.sum(data['Xm2'])/np.sum(data['Ym2'])"
   ]
  },
  {
   "cell_type": "markdown",
   "id": "2e1c30d0",
   "metadata": {},
   "source": [
    "This is where it gets confusing. Authors say \"for a one-sided hypothesis\" but no matter what, the F-statistic has to be rejected if it is too small or too large which means we have to use $F \\leq f_{\\alpha/2}$ or $F > f_{1-\\alpha/2}$. In that case, we cannot reject $H_0$ because it $f_{1-0.1/2} \\approx 2.5$ and our F-statistic is less than that. \n",
    "\n",
    "Had they meant \"use the one sided critical value as $\\alpha/2=0.1$\", then the result above is correct and we can reject $H_0$.\n",
    "\n",
    "I suppose they are trying to make a point here that we might end up rejecting the hypothesis even though it is true, because the distribution is not a normal distribution. But who knows what they had in mind."
   ]
  },
  {
   "cell_type": "markdown",
   "id": "6bb0c225",
   "metadata": {},
   "source": [
    "***(c)*** It is not exact because the distribution is not normal."
   ]
  },
  {
   "cell_type": "code",
   "execution_count": 54,
   "id": "ea02f767",
   "metadata": {},
   "outputs": [
    {
     "data": {
      "text/plain": [
       "(2.10505069190975, 2.1050506919097494, 15)"
      ]
     },
     "execution_count": 54,
     "metadata": {},
     "output_type": "execute_result"
    }
   ],
   "source": [
    "xb = np.mean(data['X'])\n",
    "yb = np.mean(data['Y'])\n",
    "sx = np.sum((data['X']-xb)**2)/(n-1)\n",
    "sy = np.sum((data['Y']-yb)**2)/(n-1)\n",
    "\n",
    "sx/sy,f,n"
   ]
  },
  {
   "cell_type": "markdown",
   "id": "a9aae1c8",
   "metadata": {},
   "source": [
    "#### Exercise 8.3.18.\n",
    "\n",
    "Solutions manual has the solution."
   ]
  },
  {
   "cell_type": "markdown",
   "id": "aa5f85ab",
   "metadata": {},
   "source": [
    "#### Exercise 8.3.19. \n",
    "\n",
    "For Table $8.3.1$ of Example $8.3.4,$ show that the half-width of the $95\\%$ confidence interval for a binomial proportion as given in Chapter $4$ is $0.004$ at the nominal value of $0.05.$"
   ]
  },
  {
   "cell_type": "markdown",
   "id": "a80e125d",
   "metadata": {},
   "source": [
    "#### Solution:\n",
    "\n",
    "Equation $4.2.7$ gives the half width as $z_{\\alpha/2}\\times\\sqrt{\\alpha(1-\\alpha)/n}$ where for us, $n=10000$."
   ]
  },
  {
   "cell_type": "code",
   "execution_count": 55,
   "id": "67c821f1",
   "metadata": {},
   "outputs": [
    {
     "name": "stdout",
     "output_type": "stream",
     "text": [
      "0.004271642470794705\n"
     ]
    }
   ],
   "source": [
    "zaby2 = norm.ppf(0.975,0,1)\n",
    "na = 10000\n",
    "a = 0.05\n",
    "accuracy = zaby2*np.sqrt(a*(1-a)/na)\n",
    "print(accuracy)"
   ]
  },
  {
   "cell_type": "markdown",
   "id": "9362c473",
   "metadata": {},
   "source": [
    "#### Exercise 8.3.20. \n",
    "\n",
    "If computational facilities are available, perform a Monte Carlo study of the two-sided t-test for the skewed contaminated normal situation of Example $8.3.4.$ The R function rscn.R generates variates from the distribution of $X$."
   ]
  },
  {
   "cell_type": "code",
   "execution_count": 56,
   "id": "3b4d075e",
   "metadata": {},
   "outputs": [],
   "source": [
    "# As usual, the R code was converted to Python using the website -- https://www.codeconvert.ai/r-to-python-converter"
   ]
  },
  {
   "cell_type": "code",
   "execution_count": 57,
   "id": "36bee4fd",
   "metadata": {},
   "outputs": [],
   "source": [
    "def rscn(n, eps, sd, mu):\n",
    "    \"\"\"\n",
    "    Returns a random sample of size n drawn from\n",
    "    a skewed contaminated normal distribution with percent\n",
    "    contamination eps, variance ratio sd, and mean mu.\n",
    "    \"\"\"\n",
    "    x1 = np.random.normal(size=n)\n",
    "    x2 = np.random.normal(mu, sd, size=n)\n",
    "    b1 = np.random.binomial(1, eps, size=n)\n",
    "    rscn = x1 * (1 - b1) + b1 * x2\n",
    "    return rscn"
   ]
  },
  {
   "cell_type": "code",
   "execution_count": 58,
   "id": "4708f147",
   "metadata": {},
   "outputs": [],
   "source": [
    "def get_alpha(rscn0,mux,ta):\n",
    "    n = len(rscn0)\n",
    "    xb = np.mean(rscn0)\n",
    "    sn = np.std(rscn0,ddof=1)\n",
    "    tn = (xb-mux)/(sn/np.sqrt(n))\n",
    "    if(tn <= ta):\n",
    "        return 1\n",
    "    else:\n",
    "        return 0"
   ]
  },
  {
   "cell_type": "code",
   "execution_count": 59,
   "id": "baba3c4f",
   "metadata": {},
   "outputs": [],
   "source": [
    "n = 30\n",
    "eps = 0.2\n",
    "sigc = 25\n",
    "mulist = [0,5,10,15,20]\n",
    "\n",
    "rscni = rscn(n, eps, sigc, 0)\n",
    "\n",
    "a = 0.05\n",
    "ta = studt.ppf(a,n-1,0,1)"
   ]
  },
  {
   "cell_type": "code",
   "execution_count": 60,
   "id": "56465820",
   "metadata": {},
   "outputs": [],
   "source": [
    "nbs = 10000\n",
    "\n",
    "alist = []\n",
    "\n",
    "for muc in mulist:\n",
    "    thisum = 0\n",
    "    for cnt in range(nbs):\n",
    "        mux = muc*eps\n",
    "        rscni = rscn(n, eps, sigc, muc)\n",
    "        ahat = get_alpha(rscni,mux,ta)\n",
    "        thisum = thisum + ahat\n",
    "    alist.append(thisum/nbs)"
   ]
  },
  {
   "cell_type": "code",
   "execution_count": 61,
   "id": "0efea490",
   "metadata": {},
   "outputs": [
    {
     "data": {
      "text/plain": [
       "[0.0423, 0.0971, 0.1199, 0.1296, 0.137]"
      ]
     },
     "execution_count": 61,
     "metadata": {},
     "output_type": "execute_result"
    }
   ],
   "source": [
    "alist"
   ]
  },
  {
   "cell_type": "code",
   "execution_count": 62,
   "id": "9f9ab2fa",
   "metadata": {},
   "outputs": [],
   "source": [
    "# rscni,ta,get_alpha(rscni,0,ta)"
   ]
  },
  {
   "cell_type": "markdown",
   "id": "11fa3ada",
   "metadata": {},
   "source": [
    "#### Exercise 8.3.21. \n",
    "\n",
    "Suppose $X_1,\\cdots,X_n$ is a random sample on $X$ which has a $N(\\mu,\\sigma_0^2)$ distribution, where $\\sigma_0^2$ is known. Consider the two-sided hypotheses \n",
    "\n",
    "$$H_0 : \\mu = 0 ~~ \\text{versus} ~~ H_1 : \\mu \\neq 0.$$\n",
    "\n",
    "Show that the test based on the critical region $C = \\{|\\overline{X}| > \\sqrt{\\sigma_0^2/n} \\times z_{\\alpha/2}\\}$ is an unbiased level $\\alpha$ test.\n"
   ]
  },
  {
   "cell_type": "markdown",
   "id": "7ac27ca1",
   "metadata": {},
   "source": [
    "#### Solution:\n",
    "\n",
    "The test is based on the distribution of $\\overline{X}$ being $N(\\mu,\\sigma_0^2/n)$. Let $\\sigma \\triangleq \\sigma_0/\\sqrt{n}$. The power function is given by \n",
    "\n",
    "$$\\gamma_C(\\mu) = 1-\\int_{\\mu_0-\\sigma z_{\\alpha/2}}^{\\mu_0+\\sigma z_{\\alpha/2}}f_{\\mu}(x)dx$$ \n",
    "\n",
    "where the pdf $f_{\\mu}(x)$ is given by\n",
    "\n",
    "$$f_{\\mu}(x) = \\frac{1}{\\sigma\\sqrt{2\\pi}}\\exp{\\left [ -\\frac{(x-\\mu)^2}{2\\sigma^2}\\right]}.$$\n",
    "\n",
    "Now using Leibniz rule (https://en.wikipedia.org/wiki/Leibniz_integral_rule), we get\n",
    "\n",
    "$$\n",
    "\\begin{align}\n",
    "\\frac{d \\gamma_C(\\mu)}{d\\mu} &= - \\frac{1}{\\sigma^2} \\int_{\\mu_0-\\sigma z_{\\alpha/2}}^{\\mu_0+\\sigma z_{\\alpha/2}}(x-\\mu)f_{\\mu}(x)dx\n",
    "\\end{align}\n",
    "$$\n",
    "\n",
    "and\n",
    "\n",
    "$$\n",
    "\\begin{align}\n",
    "\\frac{d^2 \\gamma_C(\\mu)}{d\\mu^2} &= \\frac{1}{\\sigma^2} \\int_{\\mu_0-\\sigma z_{\\alpha/2}}^{\\mu_0+\\sigma z_{\\alpha/2}}f_{\\mu}(x)dx - \\frac{1}{\\sigma^4} \\int_{\\mu_0-\\sigma z_{\\alpha/2}}^{\\mu_0+\\sigma z_{\\alpha/2}}(x-\\mu)^2f_{\\mu}(x)dx \\\\\n",
    "&= \\frac{1}{\\sigma^2} \\int_{\\mu_0-\\sigma z_{\\alpha/2}}^{\\mu_0+\\sigma z_{\\alpha/2}}\\left[ 1 - \\left(\\frac{x-\\mu}{\\sigma}\\right)^2 \\right]f_{\\mu}(x)dx \\\\\n",
    "& = \\frac{1}{\\sigma^2} \\int_{\\mu_0-\\sigma z_{\\alpha/2}}^{\\mu_0+\\sigma z_{\\alpha/2}}g(x,\\mu,\\sigma)f_{\\mu}(x)dx\n",
    "\\end{align}\n",
    "$$\n",
    "\n",
    "where \n",
    "\n",
    "$$\n",
    "g(x,\\mu,\\sigma) \\triangleq \\left[ 1 - \\left(\\frac{x-\\mu}{\\sigma}\\right)^2 \\right].\n",
    "$$\n",
    "\n",
    "Assume that $\\mu \\approx \\mu_0$ as we are trying to show that the double derivative is positive around $\\mu_0$.\n",
    "\n",
    "Note that \n",
    "\n",
    "$$\n",
    "\\int_{-\\infty}^{\\infty}g(x,\\mu,\\sigma)f_{\\mu}(x)dx = 0\n",
    "$$\n",
    "\n",
    "and for $\\lvert (x-\\mu)/\\sigma \\rvert \\geq z_{\\alpha/2} > 1$ (usually true when $\\alpha \\leq 0.05$), $g(x,\\mu,\\sigma) \\leq 0$ so that\n",
    "\n",
    "$$\n",
    "\\int_{-\\infty}^{\\mu_0-\\sigma z_{\\alpha/2}}g(x,\\mu,\\sigma)f_{\\mu}(x)dx + \\int_{\\mu_0+\\sigma z_{\\alpha/2}}^{+\\infty}g(x,\\mu,\\sigma)f_{\\mu}(x)dx < 0\n",
    "$$\n",
    "\n",
    "from which we can conclude \n",
    "\n",
    "$$\n",
    "\\begin{align}\n",
    "\\frac{d^2 \\gamma_C(\\mu)}{d\\mu^2} &= \n",
    "\\frac{1}{\\sigma^2} \\int_{\\mu_0-\\sigma z_{\\alpha/2}}^{\\mu_0+\\sigma z_{\\alpha/2}}g(x,\\mu,\\sigma)f_{\\mu}(x)dx \\\\\n",
    "&> 0\n",
    "\\end{align}\n",
    "$$\n",
    "\n",
    "so that if we set $$\\frac{d \\gamma_C(\\mu)}{d\\mu} = 0,$$ then the solution we get (if at all any) would be a minima. There is a solution for the equation above and that would be $\\mu = \\mu_0.$ But then it is a level $\\alpha$ test and we know that $\\gamma_C(\\mu_0) = \\alpha$. Hence for any other $\\mu \\neq \\mu_0,$ i.e. for the alternative case, $\\gamma_C(\\mu) > \\gamma_C(\\mu_0) = \\alpha$ i.e power is greater than the significance level which means this is an unbiased test."
   ]
  },
  {
   "cell_type": "markdown",
   "id": "4e33ae76",
   "metadata": {},
   "source": [
    "#### Exercise 8.3.22. \n",
    "\n",
    "Assume the same situation as in the last exercise but consider the test with critical region $C_{*} = \\{\\overline{X} > \\sqrt{\\sigma_0^2/n} \\times z_{\\alpha} \\}.$ Show that the test based on $C_{*}$ has significance level $\\alpha$ but that it is not an unbiased test."
   ]
  },
  {
   "cell_type": "markdown",
   "id": "237ac521",
   "metadata": {},
   "source": [
    "#### Solution:\n",
    "\n",
    "Here, $$\\gamma_{C_{*}}(\\mu) = 1-\\int_{-\\infty}^{\\mu_0+\\sigma z_{\\alpha}}f_{\\mu}(x)dx$$ \n",
    "\n",
    "with the derivative given by\n",
    "\n",
    "$$\n",
    "\\begin{align}\n",
    "\\frac{d \\gamma_{C_{*}}(\\mu)}{d\\mu} &= - \\frac{1}{\\sigma^2} \\int_{-\\infty}^{\\mu_0+\\sigma z_{\\alpha}}(x-\\mu)f_{\\mu}(x)dx\n",
    "\\end{align}\n",
    "$$\n",
    "\n",
    "with the second derivative given by\n",
    "\n",
    "$$\n",
    "\\begin{align}\n",
    "\\frac{d^2 \\gamma_{C_{*}}(\\mu)}{d\\mu^2} &= \\frac{1}{\\sigma^2} \\int_{-\\infty}^{\\mu_0+\\sigma z_{\\alpha}}f_{\\mu}(x)dx - \\frac{1}{\\sigma^4} \\int_{-\\infty}^{\\mu_0+\\sigma z_{\\alpha}}(x-\\mu)^2f_{\\mu}(x)dx \\\\\n",
    "& > 0\n",
    "\\end{align}\n",
    "$$\n",
    "\n",
    "where we can arrive at the last statement using a similar argument as in the previous problem.\n",
    "\n",
    "So the derivative of the power function is still an increasing function of $\\mu$ but unlike before, there is no solution to $$\\frac{d \\gamma_{C_{*}}(\\mu)}{d\\mu} = 0.$$\n",
    "The last line also requires some proof but it is very similar to the argument about the double derivative in the previous problem. Using the fact that $E_{\\mu}(X-\\mu) = 0$, the integral represented by the derivative of the power function can be shown to be non-zero for finite $\\mu$."
   ]
  },
  {
   "cell_type": "code",
   "execution_count": null,
   "id": "f07416ec",
   "metadata": {},
   "outputs": [],
   "source": []
  }
 ],
 "metadata": {
  "kernelspec": {
   "display_name": "Python 3 (ipykernel)",
   "language": "python",
   "name": "python3"
  },
  "language_info": {
   "codemirror_mode": {
    "name": "ipython",
    "version": 3
   },
   "file_extension": ".py",
   "mimetype": "text/x-python",
   "name": "python",
   "nbconvert_exporter": "python",
   "pygments_lexer": "ipython3",
   "version": "3.8.8"
  }
 },
 "nbformat": 4,
 "nbformat_minor": 5
}
