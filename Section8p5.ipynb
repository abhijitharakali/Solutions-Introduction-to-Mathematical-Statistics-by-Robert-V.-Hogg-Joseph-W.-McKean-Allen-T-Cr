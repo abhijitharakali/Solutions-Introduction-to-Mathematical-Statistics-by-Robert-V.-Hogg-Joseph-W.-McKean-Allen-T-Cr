{
 "cells": [
  {
   "cell_type": "markdown",
   "id": "2c05fc26",
   "metadata": {},
   "source": [
    "The solutions manual has some solutions. I have tried to solve as many from the rest as possible."
   ]
  },
  {
   "cell_type": "code",
   "execution_count": 40,
   "id": "45f95d69",
   "metadata": {},
   "outputs": [],
   "source": [
    "import numpy as np\n",
    "import pandas as pd\n",
    "\n",
    "import statsmodels.api as sm\n",
    "import statsmodels.stats.api as sms\n",
    "import pylab as py\n",
    "import scipy.linalg as la\n",
    "import statistics\n",
    "import scipy.stats as stats\n",
    "import scipy\n",
    "\n",
    "from math import gamma as tma\n",
    "import itertools\n",
    "from scipy.stats import laplace\n",
    "from scipy.stats import logistic\n",
    "from scipy.stats import cauchy\n",
    "from scipy.stats import binom\n",
    "from scipy.stats import weibull_min as weibull\n",
    "from scipy.stats import poisson\n",
    "from scipy.stats import gamma\n",
    "from scipy.stats import beta\n",
    "from scipy.stats import norm\n",
    "from scipy.stats import multivariate_normal as mnorm\n",
    "from scipy.stats import t as studt\n",
    "from scipy.stats import nct as nct\n",
    "from scipy.stats import f as fdist\n",
    "from scipy.stats import ncf as ncfdist\n",
    "from scipy.stats import chisquare as chisq\n",
    "from scipy.stats import chi2\n",
    "from scipy.stats import gaussian_kde as gkde\n",
    "from sklearn.neighbors import KernelDensity\n",
    "import math\n",
    "import sympy as sym\n",
    "import random\n",
    "import seaborn as sns\n",
    "\n",
    "import matplotlib.pyplot as plt\n",
    "import matplotlib.lines as mlines\n",
    "import matplotlib.patches as mpatches\n",
    "from matplotlib.cbook import boxplot_stats\n",
    "\n",
    "import warnings\n",
    "warnings.filterwarnings('ignore')"
   ]
  },
  {
   "cell_type": "code",
   "execution_count": 41,
   "id": "217a8cfe",
   "metadata": {},
   "outputs": [],
   "source": [
    "def dx(a,t):\n",
    "    return (norm.cdf(a, loc=0, scale=1)-t)\n",
    "def invert_norm(t):\n",
    "    a = 10.0\n",
    "    b = -10.0\n",
    "    c = (a+b)/2\n",
    "    tol = 0.00001\n",
    "\n",
    "    while(abs(dx(c,t)) > tol):\n",
    "        c = (a+b)/2\n",
    "        if(dx(c,t) > 0):\n",
    "            a = c\n",
    "        else:\n",
    "            b = c\n",
    "    return c"
   ]
  },
  {
   "cell_type": "code",
   "execution_count": 42,
   "id": "27b21bf8",
   "metadata": {},
   "outputs": [],
   "source": [
    "def dxc2(a,t,dof):\n",
    "    return (chi2.cdf(a, dof)-t)\n",
    "def invert_chi2(t,dof):\n",
    "    a = 0\n",
    "    b = 100.0\n",
    "    c = (a+b)/2\n",
    "    tol = 0.00001\n",
    "\n",
    "    while(abs(dxc2(c,t,dof)) > tol):\n",
    "        c = (a+b)/2\n",
    "        if(dxc2(c,t,dof) < 0):\n",
    "            a = c\n",
    "        else:\n",
    "            b = c\n",
    "    return c"
   ]
  },
  {
   "cell_type": "code",
   "execution_count": 43,
   "id": "f2e50392",
   "metadata": {},
   "outputs": [],
   "source": [
    "def dxt(a,df,t):\n",
    "    return (studt.cdf(a, df, loc=0, scale=1)-t)\n",
    "def invert_studt(t,df):\n",
    "    a = 10.0 * int(np.sqrt(df/(df-2)))\n",
    "    b = -10.0 * int(np.sqrt(df/(df-2)))\n",
    "    c = (a+b)/2\n",
    "    tol = 0.00001\n",
    "\n",
    "    while(abs(dxt(c,df,t)) > tol):\n",
    "        c = (a+b)/2\n",
    "        if(dxt(c,df,t) > 0):\n",
    "            a = c\n",
    "        else:\n",
    "            b = c\n",
    "    return c"
   ]
  },
  {
   "cell_type": "markdown",
   "id": "cf6550fb",
   "metadata": {},
   "source": [
    "#### Exercise 8.5.1. \n",
    "\n",
    "Let $X_1, X_2, \\cdots , X_{20}$ be a random sample of size $20$ from a distribution that is $N(\\theta,5)$. Let $L(\\theta)$ represent the joint pdf of $X_1,X_2,\\cdots,X_{20}.$ The problem is to test $H_0 :\\theta=1$ against $H_1 :\\theta=0.$ Thus $\\Omega=\\{\\theta:\\theta=0,1\\}.$\n",
    "\n",
    "***(a)*** Show that $L(1)/L(0) \\leq k$ is equivalent to $\\overline{x} \\leq c.$\n",
    "\n",
    "***(b)*** Find $c$ so that the significance level is $\\alpha = 0.05.$ Compute the power of this test if $H_1$ is true.\n",
    "\n",
    "***(c)*** If the loss function is such that $\\mathcal{L}(1,1) = \\mathcal{L}(0,0) = 0$ and $\\mathcal{L}(1,0) = \\mathcal{L}(0,1) > 0,$ find the minimax test. Evaluate the power function of this test at the points $\\theta = 1$ and $\\theta = 0.$"
   ]
  },
  {
   "cell_type": "markdown",
   "id": "e5ff0109",
   "metadata": {},
   "source": [
    "#### Solution:\n",
    "\n",
    "***(a)*** This is exactly same as in example $8.4.3$ except that the value of variance is different. In the solution, he mentions that $\\overline{x} \\leq c$ is the best critical region if $\\theta'' < \\theta'$ which is the case here.\n",
    "\n",
    "***(b)*** Now $\\overline{X} \\sim N(\\theta,1/4)$ so if $z = \\Phi^{-1}(0.05)$, then $c = \\theta_0+z/2 = 1+z/2.$"
   ]
  },
  {
   "cell_type": "code",
   "execution_count": 44,
   "id": "029d71e1",
   "metadata": {},
   "outputs": [
    {
     "name": "stdout",
     "output_type": "stream",
     "text": [
      "0.17757318652426357 -1.6448536269514729\n"
     ]
    }
   ],
   "source": [
    "za = norm.ppf(0.05,loc=0,scale=1)\n",
    "c = 1+za/2\n",
    "print(c,za)"
   ]
  },
  {
   "cell_type": "markdown",
   "id": "6ce0392b",
   "metadata": {},
   "source": [
    "If $H_1$ is true, then power is $\\gamma_{C}(\\theta_1) \\triangleq P_{\\theta_1}(X \\in C)$ where $C = \\{ (x_1,x_2,\\cdots,x_{20}): \\overline{x} \\triangleq \\sum_{i=1}^{20} x_i/20 \\leq c\\}$ and $\\theta_1 = 0$."
   ]
  },
  {
   "cell_type": "code",
   "execution_count": 45,
   "id": "b1d5ac5e",
   "metadata": {},
   "outputs": [
    {
     "name": "stdout",
     "output_type": "stream",
     "text": [
      "0.638760031312335\n"
     ]
    }
   ],
   "source": [
    "pwr = norm.cdf(c,loc = 0,scale = 1/2)\n",
    "print(pwr)"
   ]
  },
  {
   "cell_type": "markdown",
   "id": "81e28e45",
   "metadata": {},
   "source": [
    "***(c)*** On page $509$ of the text (Section $8.5.1$), they mention that $k$ (or $c$ in our case) should be chosen such that the two risk functions are equal i.e. $R(\\theta_0,C) = R(\\theta_1,C)$. So we need to find $c$ such that\n",
    "\n",
    "$$\n",
    "\\mathcal{L}(1,0) \\int_{-\\infty}^c f_{\\theta=1}(\\overline{x}) d\\overline{x} = \\mathcal{L}(0,1) \\int_{-\\infty}^c f_{\\theta=0}(\\overline{x}) d\\overline{x}.\n",
    "$$\n",
    "\n",
    "Now $c$ has to be found in such a way that it satisfies the equation above. We are not given the values of $\\mathcal{L}(1,0)$ and $\\mathcal{L}(0,1)$ so I am not sure how this can be solved. If we assume the significance level from ***(b)***, then we get the same answer as in ***(b)*** and I am not sure why we even needed this part of the question."
   ]
  },
  {
   "cell_type": "markdown",
   "id": "5d2eff9d",
   "metadata": {},
   "source": [
    "#### Exercise 8.5.3.\n",
    "\n",
    "In Example $8.5.2$ let $\\mu_1' =\\mu_2' =0,$ $\\mu_1'' =\\mu_2'' =1,$ $\\sigma_1^2=1,$ $\\sigma_2^2=1,$ and $\\rho = 1/2.$\n",
    "\n",
    "***(a)*** Find the distribution of the linear function $aX + bY$ .\n",
    "\n",
    "***(b)*** With $k = 1,$ compute $P(aX + bY \\leq c;\\mu_1' =\\mu_2' =0)$ and $P(aX + bY > c;\\mu_1'' =\\mu_2'' =1).$"
   ]
  },
  {
   "cell_type": "markdown",
   "id": "03b05e2d",
   "metadata": {},
   "source": [
    "#### Solution:\n",
    "\n",
    "***(a)***\n",
    "\n",
    "To apply Theorem $3.5.2$ here, we put\n",
    "$$\n",
    "\\begin{align}\n",
    "\\pmb{A}&\\triangleq \\begin{pmatrix}\n",
    "a & b\n",
    "\\end{pmatrix} \\\\\n",
    "\\pmb{Z}&\\triangleq \\begin{pmatrix}\n",
    "X \\\\ Y\n",
    "\\end{pmatrix} \\\\\n",
    "\\pmb{\\mu}&\\triangleq \\begin{pmatrix}\n",
    "\\mu_1 \\\\ \\mu_2\n",
    "\\end{pmatrix} \\\\\n",
    "\\pmb{\\Sigma}&\\triangleq \\begin{pmatrix}\n",
    "\\sigma_1^2 & \\rho\\sigma_1\\sigma_2 \\\\ \\rho\\sigma_1\\sigma_2 & \\sigma_2^2\n",
    "\\end{pmatrix}\n",
    "\\end{align}\n",
    "$$\n",
    "and $\\pmb{b} = 0$ (note that matrix $\\pmb{b}$ of Theorem $3.5.2$ is different from the parameter $b$ present in matrix $\\pmb{A}.$) Then from Theorem $3.5.2,$ $\\pmb{A}\\pmb{Z} \\sim N(\\pmb{A}\\pmb{\\mu},\\pmb{A}\\pmb{\\Sigma}\\pmb{A'})$ which when expanded by multiplying the individual matrices results in the desired expression $aX+bY \\sim N(a\\mu_1+b\\mu_2,a^2\\sigma_1^2 + 2ab\\rho\\sigma_1\\sigma_2 + b^2\\sigma_2^2)$."
   ]
  },
  {
   "cell_type": "markdown",
   "id": "6deee390",
   "metadata": {},
   "source": [
    "***(b)***\n",
    "\n",
    "This is again one of those things in the text that i am not clear about. In equation $8.5.3$ of the text, the authors have \"deduced\" the form of the inequality to be $aX+bY \\leq c$ but right before that equation, they have given the complete expression for the inequality where the values of $a, b,$ and $c$ can be found. In fact, the inequality $8.5.3$ in this case turns out to be $x+y \\geq 1$. The inequality is reversed as $0=\\mu_1' < \\mu_1''=1$ and similarly $0 = \\mu_2' < \\mu_2''=1.$\n",
    "\n",
    "For the first probability, $P(aX + bY \\leq c;\\mu_1' =\\mu_2' =0)$ is same as $P(X + Y \\geq 1;\\mu_1' =\\mu_2' =0)$ due to the discussion above. $X+Y \\sim N(0,3)$ for the given parameters so that the probability is $1-\\Phi(1/\\sqrt{3}).$"
   ]
  },
  {
   "cell_type": "code",
   "execution_count": 46,
   "id": "904b89a6",
   "metadata": {},
   "outputs": [
    {
     "name": "stdout",
     "output_type": "stream",
     "text": [
      "0.28185143082538655\n"
     ]
    }
   ],
   "source": [
    "print(1-norm.cdf(1/np.sqrt(3),loc=0,scale=1))"
   ]
  },
  {
   "cell_type": "markdown",
   "id": "2bcf668d",
   "metadata": {},
   "source": [
    "The second probability $P(aX + bY > c;\\mu_1'' =\\mu_2'' =1)$ is same as $P(X + Y < 1;\\mu_1'' =\\mu_2'' =1).$ $X+Y \\sim N(2,3)$ for the given parameters so that the probability is $\\Phi(-1/\\sqrt{3}).$"
   ]
  },
  {
   "cell_type": "code",
   "execution_count": 47,
   "id": "4f58de54",
   "metadata": {},
   "outputs": [
    {
     "name": "stdout",
     "output_type": "stream",
     "text": [
      "0.28185143082538655\n"
     ]
    }
   ],
   "source": [
    "print(norm.cdf(-1/np.sqrt(3),loc=0,scale=1))"
   ]
  },
  {
   "cell_type": "markdown",
   "id": "3041e972",
   "metadata": {},
   "source": [
    "#### Exercise 8.5.4. \n",
    "\n",
    "Determine Newton’s algorithm to find the solution of Equation $(8.5.2).$ If software is available, write a program that performs your algorithm and then show that the solution is $c = 76.8.$ If software is not available, solve $(8.5.2)$ by “trial and error.”\n"
   ]
  },
  {
   "cell_type": "markdown",
   "id": "c921ff1c",
   "metadata": {},
   "source": [
    "#### Solution:\n",
    "\n",
    "The R code is given in the solutions manual. I am merely changing it to python and running it. \n",
    "\n",
    "As usual, the R code was converted to python through the website https://www.codeconvert.ai/r-to-python-converter"
   ]
  },
  {
   "cell_type": "code",
   "execution_count": 48,
   "id": "9f4d8426",
   "metadata": {},
   "outputs": [],
   "source": [
    "def newtstp(c0):\n",
    "    gc0 = norm.cdf(c0 - 78) - 3 + 3 * norm.cdf(c0 - 75)\n",
    "    gpc0 = norm.pdf(c0 - 78) + 3 * norm.pdf(c0 - 75)\n",
    "    c = c0 - (gc0 / gpc0)\n",
    "    gc = norm.cdf(c - 78) - 3 + 3 * norm.cdf(c - 75)\n",
    "    return c\n",
    "#     return {'c0': c0, 'gc0': gc0, 'c': c, 'gc': gc}"
   ]
  },
  {
   "cell_type": "code",
   "execution_count": 49,
   "id": "07ebaf61",
   "metadata": {},
   "outputs": [],
   "source": [
    "oldc = 75\n",
    "cguesses = [oldc]\n",
    "\n",
    "for i in range(20):\n",
    "    newc = newtstp(oldc)\n",
    "    oldc = newc\n",
    "    cguesses.append(newc)"
   ]
  },
  {
   "cell_type": "code",
   "execution_count": 50,
   "id": "ed51bc6c",
   "metadata": {},
   "outputs": [
    {
     "data": {
      "image/png": "[encoded data removed]",
      "text/plain": [
       "<Figure size 864x504 with 1 Axes>"
      ]
     },
     "metadata": {
      "needs_background": "light"
     },
     "output_type": "display_data"
    }
   ],
   "source": [
    "plt.figure(figsize = (12,7))\n",
    "\n",
    "plt.plot(cguesses,'r.',markersize=16)\n",
    "plt.ylabel('Guess for parameter c',fontsize=14)\n",
    "plt.xlabel('Iteration Number',fontsize=14)\n",
    "plt.grid()\n",
    "plt.title('Plot of the progression of Newton\\'s algorithm',fontsize=16,fontweight='bold')\n",
    "plt.show()"
   ]
  },
  {
   "cell_type": "markdown",
   "id": "eeb3709f",
   "metadata": {},
   "source": [
    "#### Exercise 8.5.6. \n",
    "\n",
    "Let $X$ and $Y$ have a joint bivariate normal distribution. An observation $(x,y)$ arises from the joint distribution with parameters equal to either\n",
    "\n",
    "$$\n",
    "\\mu_1' =\\mu_2' = 0, ~~(\\sigma_1^2)' =(\\sigma_2^2)' = 1, ~~\\rho' = \\frac{1}{2}\n",
    "$$\n",
    "\n",
    "or\n",
    "\n",
    "$$\n",
    "\\mu_1'' =\\mu_2'' = 1, ~~(\\sigma_1^2)''=4, ~~ (\\sigma_2^2)' = 9, ~~\\rho' = \\frac{1}{2}.\n",
    "$$\n",
    "\n",
    "Show that the classification rule involves a second-degree polynomial in $x$ and $y$."
   ]
  },
  {
   "cell_type": "markdown",
   "id": "304372e5",
   "metadata": {},
   "source": [
    "#### Solution:\n",
    "\n",
    "Following the footsteps of Example $8.5.2,$ the likelihood ratio inequality\n",
    "\n",
    "$$\n",
    "\\frac{f(x,y,\\theta')}{f(x,y,\\theta'')} \\leq k\n",
    "$$\n",
    "\n",
    "basically boils down to (after taking logs)\n",
    "\n",
    "$$\n",
    "\\frac{1}{2} \\left [ q(x, y; \\mu_1', \\mu_2', \\sigma_1',\\sigma_2') − q(x, y; \\mu_1'', \\mu_2'', \\sigma_1'',\\sigma_2'' ) \\right ] \\leq \\log{\\left [ k\\frac{\\sigma_1'\\sigma_2'}{\\sigma_1''\\sigma_2''} \\right ] }\n",
    "$$\n",
    "\n",
    "and after plugging in the parameters, the inequality boils down to\n",
    "\n",
    "$$\n",
    "\\frac{2}{3}\\left [ \\frac{5xy+x+y-1}{6} -\\frac{(x+1)(3x-1)}{4} - \\frac{(2y+1)(4y-1)}{9} \\right ] \\leq \\log{\\left [ \\frac{k}{6} \\right ]}.\n",
    "$$"
   ]
  },
  {
   "cell_type": "markdown",
   "id": "76ecd155",
   "metadata": {},
   "source": [
    "#### Exercise 8.5.7. \n",
    "\n",
    "Let $\\pmb{W'} = (W1 , W2 )$ be an observation from one of two bivariate normal distributions, $\\mathrm{I}$ and $\\mathrm{II}$, each with $\\mu_1 = \\mu_2 = 0$ but with the respective variance-covariance matrices\n",
    "\n",
    "$$\n",
    "\\pmb{V_1} = \\begin{pmatrix}\n",
    "1 & 0 \\\\ 0 & 4\n",
    "\\end{pmatrix}\n",
    "~~\\text{and}~~\n",
    "\\pmb{V_2} = \\begin{pmatrix}\n",
    "3 & 0 \\\\ 0 & 12\n",
    "\\end{pmatrix}.\n",
    "$$\n",
    "\n",
    "How would you classify $\\pmb{W}$ into $\\mathrm{I}$ or $\\mathrm{II}$?"
   ]
  },
  {
   "cell_type": "markdown",
   "id": "f8cdfa5b",
   "metadata": {},
   "source": [
    "#### Answer from the back of the book:\n",
    "\n",
    "#### 8.5.7. \n",
    "\n",
    "$2w_1^2 + 8w_2^2 \\geq c$ $\\implies (w1,w2) \\in \\mathrm{II}.$"
   ]
  },
  {
   "cell_type": "markdown",
   "id": "861bb6ac",
   "metadata": {},
   "source": [
    "#### Solution:\n",
    "\n",
    "We have to repeat the steps in the previous exercise except that the parameters are now different, and thankfully, the value of $\\rho = 0$.\n",
    "\n",
    "I got he inequality to be\n",
    "\n",
    "$$\n",
    "\\frac{1}{2} \\left [ \\frac{w_1^2}{3} + \\frac{w_2^2}{12}-\\frac{w_1^2}{1} - \\frac{w_2^2}{4} \\right] \\leq \\log{\\left [ k\\frac{2}{6} \\right ] }\n",
    "$$\n",
    "\n",
    "which after simplification becomes\n",
    "\n",
    "$$\n",
    "4w_1^2 + w_2^2 \\geq 12\\log{\\left [ \\frac{3}{k} \\right ]} \\implies (w1,w2) \\in \\mathrm{II}.\n",
    "$$\n",
    "\n",
    "I think the authors who gave the solution given at the back of the book switched $w_1$ and $w_2$."
   ]
  },
  {
   "cell_type": "code",
   "execution_count": null,
   "id": "61513954",
   "metadata": {},
   "outputs": [],
   "source": []
  }
 ],
 "metadata": {
  "kernelspec": {
   "display_name": "Python 3 (ipykernel)",
   "language": "python",
   "name": "python3"
  },
  "language_info": {
   "codemirror_mode": {
    "name": "ipython",
    "version": 3
   },
   "file_extension": ".py",
   "mimetype": "text/x-python",
   "name": "python",
   "nbconvert_exporter": "python",
   "pygments_lexer": "ipython3",
   "version": "3.8.8"
  }
 },
 "nbformat": 4,
 "nbformat_minor": 5
}
